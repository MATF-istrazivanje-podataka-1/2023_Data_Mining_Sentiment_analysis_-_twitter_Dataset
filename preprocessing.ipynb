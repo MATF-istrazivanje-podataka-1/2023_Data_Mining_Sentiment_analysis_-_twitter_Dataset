{
 "cells": [
  {
   "cell_type": "code",
   "execution_count": 1,
   "id": "d17a2e96",
   "metadata": {
    "id": "d17a2e96"
   },
   "outputs": [],
   "source": [
    "import re\n",
    "from typing import List\n",
    "\n",
    "import pandas as pd\n",
    "import matplotlib.pyplot as plt\n",
    "import numpy as np\n",
    "from termcolor import colored\n",
    "import nltk\n",
    "from nltk.corpus import stopwords\n",
    "from nltk.tokenize import word_tokenize\n",
    "from nltk.stem import WordNetLemmatizer\n",
    "from nltk.probability import FreqDist\n",
    "from wordcloud import WordCloud\n",
    "import PIL\n",
    "from PIL import Image\n",
    "from imblearn.metrics import classification_report_imbalanced\n",
    "from imblearn.pipeline import make_pipeline\n",
    "from imblearn.over_sampling import SMOTE, RandomOverSampler\n",
    "from imblearn.under_sampling import RandomUnderSampler\n",
    "from sklearn.feature_extraction.text import TfidfVectorizer\n",
    "from sklearn.model_selection import train_test_split\n",
    "from sklearn.metrics import confusion_matrix\n",
    "from sklearn.tree import DecisionTreeClassifier\n",
    "from sklearn.naive_bayes import MultinomialNB\n",
    "from packaging.version import Version"
   ]
  },
  {
   "cell_type": "markdown",
   "id": "Dzf2B9X5yNh2",
   "metadata": {
    "id": "Dzf2B9X5yNh2"
   },
   "source": [
    "Problem prilikom koriscenja Google Colab-a sa verzijom Pillow biblioteke. Za projekat se koristi verzija $ \\le $ `9.5.0`"
   ]
  },
  {
   "cell_type": "code",
   "execution_count": 3,
   "id": "a9Vo0AxAyCUa",
   "metadata": {
    "colab": {
     "base_uri": "https://localhost:8080/",
     "height": 269
    },
    "id": "a9Vo0AxAyCUa",
    "outputId": "7cc3c821-4c5c-4f98-bc72-452ce98dee9a"
   },
   "outputs": [
    {
     "name": "stdout",
     "output_type": "stream",
     "text": [
      "Collecting Pillow==9.5.0\n",
      "  Downloading Pillow-9.5.0-cp310-cp310-manylinux_2_28_x86_64.whl (3.4 MB)\n",
      "\u001b[2K     \u001b[90m━━━━━━━━━━━━━━━━━━━━━━━━━━━━━━━━━━━━━━━━\u001b[0m \u001b[32m3.4/3.4 MB\u001b[0m \u001b[31m10.9 MB/s\u001b[0m eta \u001b[36m0:00:00\u001b[0m\n",
      "\u001b[?25hInstalling collected packages: Pillow\n",
      "  Attempting uninstall: Pillow\n",
      "    Found existing installation: Pillow 10.0.0\n",
      "    Uninstalling Pillow-10.0.0:\n",
      "      Successfully uninstalled Pillow-10.0.0\n",
      "Successfully installed Pillow-9.5.0\n"
     ]
    },
    {
     "data": {
      "application/vnd.colab-display-data+json": {
       "pip_warning": {
        "packages": [
         "PIL"
        ]
       }
      }
     },
     "metadata": {},
     "output_type": "display_data"
    }
   ],
   "source": [
    "if Version(PIL.__version__) > Version('9.5.0'):\n",
    "    !pip3 install Pillow==9.5.0"
   ]
  },
  {
   "cell_type": "code",
   "execution_count": 3,
   "id": "BxemcYiXy7Ho",
   "metadata": {
    "colab": {
     "base_uri": "https://localhost:8080/"
    },
    "id": "BxemcYiXy7Ho",
    "outputId": "d9fd232e-c567-4e2f-a419-39968e0f9672"
   },
   "outputs": [
    {
     "name": "stdout",
     "output_type": "stream",
     "text": [
      "9.5.0\n"
     ]
    }
   ],
   "source": [
    "print(PIL.__version__)"
   ]
  },
  {
   "cell_type": "code",
   "execution_count": 4,
   "id": "2038baea",
   "metadata": {
    "colab": {
     "base_uri": "https://localhost:8080/"
    },
    "id": "2038baea",
    "outputId": "a5296cf9-3b61-4b0b-b5b6-461191a635bd"
   },
   "outputs": [
    {
     "name": "stderr",
     "output_type": "stream",
     "text": [
      "[nltk_data] Downloading package stopwords to /home/filip/nltk_data...\n",
      "[nltk_data]   Package stopwords is already up-to-date!\n",
      "[nltk_data] Downloading package punkt to /home/filip/nltk_data...\n",
      "[nltk_data]   Package punkt is already up-to-date!\n",
      "[nltk_data] Downloading package wordnet to /home/filip/nltk_data...\n",
      "[nltk_data]   Package wordnet is already up-to-date!\n"
     ]
    },
    {
     "data": {
      "text/plain": [
       "True"
      ]
     },
     "execution_count": 4,
     "metadata": {},
     "output_type": "execute_result"
    }
   ],
   "source": [
    "nltk.download('stopwords')\n",
    "nltk.download('punkt')\n",
    "nltk.download('wordnet')"
   ]
  },
  {
   "cell_type": "markdown",
   "id": "636f56f9",
   "metadata": {
    "id": "636f56f9"
   },
   "source": [
    "## Ucitavanje podataka\n",
    "-  Podaci se nalaze u direktorijumu `dataset`  \n",
    "-  Iako su na prvi pogled podaci podeljeni na trening i test skup, test skup ne sadrzi izlaznu promenljivu i na njemu ne mozemo testirati koliko dobro nas model radi pa je potrebno podeliti `train.csv` na trening i test skup. Ali ce to biti odradjeno tek nakon pretprocesiranja teksta\n",
    "<!-- -  Podaci su vec podeljeni na train i test skup tako da nema potrebe koristiti neku od ugradjenih funkcija (npr. `train_test_split` iz `sklearn.model_selection` paketa)   -->"
   ]
  },
  {
   "cell_type": "code",
   "execution_count": 2,
   "id": "cafe31fc",
   "metadata": {
    "id": "cafe31fc"
   },
   "outputs": [],
   "source": [
    "data = pd.read_csv('dataset/train.csv')"
   ]
  },
  {
   "cell_type": "code",
   "execution_count": 3,
   "id": "F6guP0aXlhF8",
   "metadata": {
    "colab": {
     "base_uri": "https://localhost:8080/"
    },
    "id": "F6guP0aXlhF8",
    "outputId": "b542a38e-b65f-4746-a104-3a927ea9e2d5"
   },
   "outputs": [
    {
     "name": "stdout",
     "output_type": "stream",
     "text": [
      "Broj instanci: 31,962\n",
      "Broj atributa: 3 (id, label, tweet)\n"
     ]
    }
   ],
   "source": [
    "(num_instances, num_attrs) = data.shape\n",
    "\n",
    "print(f'Broj instanci: {num_instances:,}')\n",
    "print(f'Broj atributa: {num_attrs} ({\", \".join(data.columns.values)})')"
   ]
  },
  {
   "cell_type": "code",
   "execution_count": 4,
   "id": "35fcbd0e",
   "metadata": {
    "colab": {
     "base_uri": "https://localhost:8080/"
    },
    "id": "35fcbd0e",
    "outputId": "cff2ef02-7b3d-42a7-a912-d4078ac3c9d7"
   },
   "outputs": [
    {
     "data": {
      "text/plain": [
       "array([0, 1])"
      ]
     },
     "execution_count": 4,
     "metadata": {},
     "output_type": "execute_result"
    }
   ],
   "source": [
    "data['label'].unique()"
   ]
  },
  {
   "cell_type": "markdown",
   "id": "439b3c73",
   "metadata": {
    "id": "439b3c73"
   },
   "source": [
    "Kako imamo 2 moguce vrednosti izlaznog atributa (tweet sadrzi govor mrznje odnosno tweet ne sadrzi govor mrznje), rec je o binarnoj klasifikaciji. Naravno ulazni atribut predstavlja `tweet`"
   ]
  },
  {
   "cell_type": "markdown",
   "id": "669c40eb",
   "metadata": {
    "id": "669c40eb"
   },
   "source": [
    "## Obrada train podataka"
   ]
  },
  {
   "cell_type": "code",
   "execution_count": 5,
   "id": "c0467b26",
   "metadata": {
    "colab": {
     "base_uri": "https://localhost:8080/",
     "height": 363
    },
    "id": "c0467b26",
    "outputId": "9041883b-4cde-4419-b7d1-40ac256f4eba"
   },
   "outputs": [
    {
     "data": {
      "text/html": [
       "<div>\n",
       "<style scoped>\n",
       "    .dataframe tbody tr th:only-of-type {\n",
       "        vertical-align: middle;\n",
       "    }\n",
       "\n",
       "    .dataframe tbody tr th {\n",
       "        vertical-align: top;\n",
       "    }\n",
       "\n",
       "    .dataframe thead th {\n",
       "        text-align: right;\n",
       "    }\n",
       "</style>\n",
       "<table border=\"1\" class=\"dataframe\">\n",
       "  <thead>\n",
       "    <tr style=\"text-align: right;\">\n",
       "      <th></th>\n",
       "      <th>id</th>\n",
       "      <th>label</th>\n",
       "      <th>tweet</th>\n",
       "    </tr>\n",
       "  </thead>\n",
       "  <tbody>\n",
       "    <tr>\n",
       "      <th>0</th>\n",
       "      <td>1</td>\n",
       "      <td>0</td>\n",
       "      <td>@user when a father is dysfunctional and is so selfish he drags his kids into his dysfunction.   #run</td>\n",
       "    </tr>\n",
       "    <tr>\n",
       "      <th>1</th>\n",
       "      <td>2</td>\n",
       "      <td>0</td>\n",
       "      <td>@user @user thanks for #lyft credit i can't use cause they don't offer wheelchair vans in pdx.    #disapointed #getthanked</td>\n",
       "    </tr>\n",
       "    <tr>\n",
       "      <th>2</th>\n",
       "      <td>3</td>\n",
       "      <td>0</td>\n",
       "      <td>bihday your majesty</td>\n",
       "    </tr>\n",
       "    <tr>\n",
       "      <th>3</th>\n",
       "      <td>4</td>\n",
       "      <td>0</td>\n",
       "      <td>#model   i love u take with u all the time in urð±!!! ðððð",
       "ð¦ð¦ð¦</td>\n",
       "    </tr>\n",
       "    <tr>\n",
       "      <th>4</th>\n",
       "      <td>5</td>\n",
       "      <td>0</td>\n",
       "      <td>factsguide: society now    #motivation</td>\n",
       "    </tr>\n",
       "    <tr>\n",
       "      <th>5</th>\n",
       "      <td>6</td>\n",
       "      <td>0</td>\n",
       "      <td>[2/2] huge fan fare and big talking before they leave. chaos and pay disputes when they get there. #allshowandnogo</td>\n",
       "    </tr>\n",
       "    <tr>\n",
       "      <th>6</th>\n",
       "      <td>7</td>\n",
       "      <td>0</td>\n",
       "      <td>@user camping tomorrow @user @user @user @user @user @user @user dannyâ¦</td>\n",
       "    </tr>\n",
       "    <tr>\n",
       "      <th>7</th>\n",
       "      <td>8</td>\n",
       "      <td>0</td>\n",
       "      <td>the next school year is the year for exams.ð¯ can't think about that ð­ #school #exams   #hate #imagine #actorslife #revolutionschool #girl</td>\n",
       "    </tr>\n",
       "    <tr>\n",
       "      <th>8</th>\n",
       "      <td>9</td>\n",
       "      <td>0</td>\n",
       "      <td>we won!!! love the land!!! #allin #cavs #champions #cleveland #clevelandcavaliers  â¦</td>\n",
       "    </tr>\n",
       "    <tr>\n",
       "      <th>9</th>\n",
       "      <td>10</td>\n",
       "      <td>0</td>\n",
       "      <td>@user @user welcome here !  i'm   it's so #gr8 !</td>\n",
       "    </tr>\n",
       "  </tbody>\n",
       "</table>\n",
       "</div>"
      ],
      "text/plain": [
       "   id  label  \\\n",
       "0   1      0   \n",
       "1   2      0   \n",
       "2   3      0   \n",
       "3   4      0   \n",
       "4   5      0   \n",
       "5   6      0   \n",
       "6   7      0   \n",
       "7   8      0   \n",
       "8   9      0   \n",
       "9  10      0   \n",
       "\n",
       "                                                                                                                                             tweet  \n",
       "0                                            @user when a father is dysfunctional and is so selfish he drags his kids into his dysfunction.   #run  \n",
       "1                       @user @user thanks for #lyft credit i can't use cause they don't offer wheelchair vans in pdx.    #disapointed #getthanked  \n",
       "2                                                                                                                              bihday your majesty  \n",
       "3                                                           #model   i love u take with u all the time in urð±!!! ðððð\n",
       "ð¦ð¦ð¦    \n",
       "4                                                                                                           factsguide: society now    #motivation  \n",
       "5                             [2/2] huge fan fare and big talking before they leave. chaos and pay disputes when they get there. #allshowandnogo    \n",
       "6                                                                        @user camping tomorrow @user @user @user @user @user @user @user dannyâ¦  \n",
       "7  the next school year is the year for exams.ð¯ can't think about that ð­ #school #exams   #hate #imagine #actorslife #revolutionschool #girl  \n",
       "8                                                          we won!!! love the land!!! #allin #cavs #champions #cleveland #clevelandcavaliers  â¦   \n",
       "9                                                                                                @user @user welcome here !  i'm   it's so #gr8 !   "
      ]
     },
     "execution_count": 5,
     "metadata": {},
     "output_type": "execute_result"
    }
   ],
   "source": [
    "pd.set_option('display.max_colwidth', 1000)\n",
    "\n",
    "data.head(n=10)"
   ]
  },
  {
   "cell_type": "markdown",
   "id": "1dfea42e",
   "metadata": {
    "id": "1dfea42e"
   },
   "source": [
    "Kako je atributan `id` irelevantan mozemo ga izbaciti iz DataFrame-a"
   ]
  },
  {
   "cell_type": "code",
   "execution_count": 6,
   "id": "30ead904",
   "metadata": {
    "colab": {
     "base_uri": "https://localhost:8080/",
     "height": 363
    },
    "id": "30ead904",
    "outputId": "f476b58b-eb96-4742-a7cc-e2eac2a0814c"
   },
   "outputs": [
    {
     "data": {
      "text/html": [
       "<div>\n",
       "<style scoped>\n",
       "    .dataframe tbody tr th:only-of-type {\n",
       "        vertical-align: middle;\n",
       "    }\n",
       "\n",
       "    .dataframe tbody tr th {\n",
       "        vertical-align: top;\n",
       "    }\n",
       "\n",
       "    .dataframe thead th {\n",
       "        text-align: right;\n",
       "    }\n",
       "</style>\n",
       "<table border=\"1\" class=\"dataframe\">\n",
       "  <thead>\n",
       "    <tr style=\"text-align: right;\">\n",
       "      <th></th>\n",
       "      <th>label</th>\n",
       "      <th>tweet</th>\n",
       "    </tr>\n",
       "  </thead>\n",
       "  <tbody>\n",
       "    <tr>\n",
       "      <th>0</th>\n",
       "      <td>0</td>\n",
       "      <td>@user when a father is dysfunctional and is so selfish he drags his kids into his dysfunction.   #run</td>\n",
       "    </tr>\n",
       "    <tr>\n",
       "      <th>1</th>\n",
       "      <td>0</td>\n",
       "      <td>@user @user thanks for #lyft credit i can't use cause they don't offer wheelchair vans in pdx.    #disapointed #getthanked</td>\n",
       "    </tr>\n",
       "    <tr>\n",
       "      <th>2</th>\n",
       "      <td>0</td>\n",
       "      <td>bihday your majesty</td>\n",
       "    </tr>\n",
       "    <tr>\n",
       "      <th>3</th>\n",
       "      <td>0</td>\n",
       "      <td>#model   i love u take with u all the time in urð±!!! ðððð",
       "ð¦ð¦ð¦</td>\n",
       "    </tr>\n",
       "    <tr>\n",
       "      <th>4</th>\n",
       "      <td>0</td>\n",
       "      <td>factsguide: society now    #motivation</td>\n",
       "    </tr>\n",
       "    <tr>\n",
       "      <th>5</th>\n",
       "      <td>0</td>\n",
       "      <td>[2/2] huge fan fare and big talking before they leave. chaos and pay disputes when they get there. #allshowandnogo</td>\n",
       "    </tr>\n",
       "    <tr>\n",
       "      <th>6</th>\n",
       "      <td>0</td>\n",
       "      <td>@user camping tomorrow @user @user @user @user @user @user @user dannyâ¦</td>\n",
       "    </tr>\n",
       "    <tr>\n",
       "      <th>7</th>\n",
       "      <td>0</td>\n",
       "      <td>the next school year is the year for exams.ð¯ can't think about that ð­ #school #exams   #hate #imagine #actorslife #revolutionschool #girl</td>\n",
       "    </tr>\n",
       "    <tr>\n",
       "      <th>8</th>\n",
       "      <td>0</td>\n",
       "      <td>we won!!! love the land!!! #allin #cavs #champions #cleveland #clevelandcavaliers  â¦</td>\n",
       "    </tr>\n",
       "    <tr>\n",
       "      <th>9</th>\n",
       "      <td>0</td>\n",
       "      <td>@user @user welcome here !  i'm   it's so #gr8 !</td>\n",
       "    </tr>\n",
       "  </tbody>\n",
       "</table>\n",
       "</div>"
      ],
      "text/plain": [
       "   label  \\\n",
       "0      0   \n",
       "1      0   \n",
       "2      0   \n",
       "3      0   \n",
       "4      0   \n",
       "5      0   \n",
       "6      0   \n",
       "7      0   \n",
       "8      0   \n",
       "9      0   \n",
       "\n",
       "                                                                                                                                             tweet  \n",
       "0                                            @user when a father is dysfunctional and is so selfish he drags his kids into his dysfunction.   #run  \n",
       "1                       @user @user thanks for #lyft credit i can't use cause they don't offer wheelchair vans in pdx.    #disapointed #getthanked  \n",
       "2                                                                                                                              bihday your majesty  \n",
       "3                                                           #model   i love u take with u all the time in urð±!!! ðððð\n",
       "ð¦ð¦ð¦    \n",
       "4                                                                                                           factsguide: society now    #motivation  \n",
       "5                             [2/2] huge fan fare and big talking before they leave. chaos and pay disputes when they get there. #allshowandnogo    \n",
       "6                                                                        @user camping tomorrow @user @user @user @user @user @user @user dannyâ¦  \n",
       "7  the next school year is the year for exams.ð¯ can't think about that ð­ #school #exams   #hate #imagine #actorslife #revolutionschool #girl  \n",
       "8                                                          we won!!! love the land!!! #allin #cavs #champions #cleveland #clevelandcavaliers  â¦   \n",
       "9                                                                                                @user @user welcome here !  i'm   it's so #gr8 !   "
      ]
     },
     "execution_count": 6,
     "metadata": {},
     "output_type": "execute_result"
    }
   ],
   "source": [
    "data.drop(['id'], axis=1, inplace=True)\n",
    "\n",
    "data.head(n=10)"
   ]
  },
  {
   "cell_type": "markdown",
   "id": "0eb4518e",
   "metadata": {
    "id": "0eb4518e"
   },
   "source": [
    "### Obrada null vrednosti (nedostajucih vrednosti)"
   ]
  },
  {
   "cell_type": "code",
   "execution_count": 7,
   "id": "6561726c",
   "metadata": {
    "colab": {
     "base_uri": "https://localhost:8080/"
    },
    "id": "6561726c",
    "outputId": "c72746e8-5992-40ba-c553-040f4a1bfae1"
   },
   "outputs": [
    {
     "name": "stdout",
     "output_type": "stream",
     "text": [
      "Nema null vrednosti\n"
     ]
    }
   ],
   "source": [
    "null_values = data.isna().any().any()\n",
    "\n",
    "print('Nema null vrednosti') if not null_values else print(data.isna().sum())"
   ]
  },
  {
   "cell_type": "markdown",
   "id": "b5b71186",
   "metadata": {
    "id": "b5b71186"
   },
   "source": [
    "Iako nema `NaN` vrednost to ne znaci da nas skup podataka zaista nema nedostajucih vrednosti, u nasem slucaju prazan tekst odnosno prazan tweet je takodje nedostajuca vrednost (iako je nemoguce objaviti prazan tweet). Nakon obrade teksta je moguce dobiti prazan tweet u slucaju da je sadrzaj tweet-a neka od Stopwords, emoji i sl. o cemu ce biti rec u nastavku"
   ]
  },
  {
   "cell_type": "code",
   "execution_count": 8,
   "id": "cbbfc45d",
   "metadata": {
    "colab": {
     "base_uri": "https://localhost:8080/"
    },
    "id": "cbbfc45d",
    "outputId": "99c88bb6-e3c2-4fd6-b954-e8bff5296dba"
   },
   "outputs": [
    {
     "name": "stdout",
     "output_type": "stream",
     "text": [
      "0\n"
     ]
    }
   ],
   "source": [
    "print(len(data.loc[data['tweet'] == '']))"
   ]
  },
  {
   "cell_type": "markdown",
   "id": "0ccdb064",
   "metadata": {
    "id": "0ccdb064"
   },
   "source": [
    "#### Neke od metoda za obradjivanje null vrednosti\n",
    "Kako nas skup ne sadrzi null vrednosti nema potrebe za daljom analizom nedostajucih podataka  \n",
    "U slucaju da su postojale null vrednosti one su mogle biti obradjene na neki od sledecih nacina:  \n",
    "-  **`Izbacivanjem`** (*train_data.dropna()*, pri cemu moramo voditi racuna da ne izbacimo previse podataka)  \n",
    "\n",
    "-  **`Popunjavanjem default vrednostima`** (*train_data.fillna(def)*, ovde se postavlja pitanje sta izabrati kao default vrednost, u slucaju da nemamo vrednost za *label* atribut ako izaberemo 0 tweet-ovi koji sadrze govor mrznje mogu biti okarakaterisani kao tweet-ovi koji ne sadrze govor mrznje, slicno za 1)  \n",
    "\n",
    "- **`Popunjavanje unapred / unazad`** (*train_data['label'].ffill()*, odnosno *train_data['label'].bfill()*)\n",
    "    -  *ffill()* popunjava null vrednost na osnovu vrednosti koja se nalazi iznad nje\n",
    "    -  *bfill()* popunjava null vrednost na osnovu vrednosti koja se nalazi ispod nje\n",
    "- **...**\n",
    "\n",
    "Nakon popunjavanja nedostajucih vrednosti mozemo iskoristiti metod `hist()` kako bi proverili koliko smo zaista uticali na nas set podataka  "
   ]
  },
  {
   "cell_type": "markdown",
   "id": "tq5P2VYUaaHH",
   "metadata": {
    "id": "tq5P2VYUaaHH"
   },
   "source": [
    "Provera da li nas skup sadrzi duplirane podatke"
   ]
  },
  {
   "cell_type": "code",
   "execution_count": 9,
   "id": "nm3OJ-o3ab4d",
   "metadata": {
    "colab": {
     "base_uri": "https://localhost:8080/"
    },
    "id": "nm3OJ-o3ab4d",
    "outputId": "2b45fee7-0c3f-4872-9c70-2b56ff2a5fd6"
   },
   "outputs": [
    {
     "name": "stdout",
     "output_type": "stream",
     "text": [
      "Ima 2432 duplikata\n"
     ]
    }
   ],
   "source": [
    "print(f'Ima {len(data.loc[data[\"tweet\"].duplicated() == True])} duplikata') if data.duplicated().any() else print('Nema duplikata')"
   ]
  },
  {
   "cell_type": "code",
   "execution_count": 10,
   "id": "A7tHMDairVzz",
   "metadata": {
    "colab": {
     "base_uri": "https://localhost:8080/"
    },
    "id": "A7tHMDairVzz",
    "outputId": "a20007f6-66b7-46d8-e6a9-3e6bf860fad0"
   },
   "outputs": [
    {
     "data": {
      "text/plain": [
       "(29530, 2)"
      ]
     },
     "execution_count": 10,
     "metadata": {},
     "output_type": "execute_result"
    }
   ],
   "source": [
    "data = data.drop_duplicates(keep='first')\n",
    "data.shape"
   ]
  },
  {
   "cell_type": "markdown",
   "id": "rVtWVLixaaPQ",
   "metadata": {
    "id": "rVtWVLixaaPQ"
   },
   "source": [
    "Naredni korak predstavlja obrada tweet-ova na taj nacin da ne sadrze `stopwords` ('I', 'myself', 'your', 'like' ...), `znakove interpunkcije` (',', '!', '.' ...), `emojis` (':)', ';)', ...) i sl. sto ne moze znacajnije uticati na tekst.\n",
    "Takodje bice izvrsena lematizacija koja reci svodi na njihov osnovni oblik (npr. [`improve`, `improving`, `improved`] i sl. ce se svesti na `improve`) (Pored lematizacije postoji i stemming pri cemu se uklanjaju poslednji karakteri koji vode ka pogresnom zakljucku i spelovanju)"
   ]
  },
  {
   "cell_type": "code",
   "execution_count": 11,
   "id": "778c3f04",
   "metadata": {
    "id": "778c3f04",
    "scrolled": false
   },
   "outputs": [],
   "source": [
    "stop_words = set(stopwords.words('english'))\n",
    "stop_words.add('user')\n",
    "\n",
    "lemma = WordNetLemmatizer()"
   ]
  },
  {
   "cell_type": "code",
   "execution_count": 12,
   "id": "084e3088",
   "metadata": {
    "id": "084e3088"
   },
   "outputs": [],
   "source": [
    "def preprocessing_tweet(tweet: str) -> str:\n",
    "    new_tweet = tweet.lower()\n",
    "    new_tweet = re.sub(r'[^a-zA-Z]', ' ', new_tweet)   # Zameni sve sto nije slovo sa ' '\n",
    "    new_tweet = [word for word in new_tweet.split() if word not in stop_words]\n",
    "    new_tweet = ' '.join([lemma.lemmatize(word) for word in new_tweet])\n",
    "\n",
    "    return new_tweet"
   ]
  },
  {
   "cell_type": "code",
   "execution_count": 13,
   "id": "5221f235",
   "metadata": {
    "colab": {
     "base_uri": "https://localhost:8080/",
     "height": 424
    },
    "id": "5221f235",
    "outputId": "df79609f-8a98-4d5f-f3ff-3907bafa20ab"
   },
   "outputs": [
    {
     "data": {
      "text/html": [
       "<div>\n",
       "<style scoped>\n",
       "    .dataframe tbody tr th:only-of-type {\n",
       "        vertical-align: middle;\n",
       "    }\n",
       "\n",
       "    .dataframe tbody tr th {\n",
       "        vertical-align: top;\n",
       "    }\n",
       "\n",
       "    .dataframe thead th {\n",
       "        text-align: right;\n",
       "    }\n",
       "</style>\n",
       "<table border=\"1\" class=\"dataframe\">\n",
       "  <thead>\n",
       "    <tr style=\"text-align: right;\">\n",
       "      <th></th>\n",
       "      <th>label</th>\n",
       "      <th>tweet</th>\n",
       "      <th>tweet_cleaned</th>\n",
       "    </tr>\n",
       "  </thead>\n",
       "  <tbody>\n",
       "    <tr>\n",
       "      <th>0</th>\n",
       "      <td>0</td>\n",
       "      <td>@user when a father is dysfunctional and is so selfish he drags his kids into his dysfunction.   #run</td>\n",
       "      <td>father dysfunctional selfish drag kid dysfunction run</td>\n",
       "    </tr>\n",
       "    <tr>\n",
       "      <th>1</th>\n",
       "      <td>0</td>\n",
       "      <td>@user @user thanks for #lyft credit i can't use cause they don't offer wheelchair vans in pdx.    #disapointed #getthanked</td>\n",
       "      <td>thanks lyft credit use cause offer wheelchair van pdx disapointed getthanked</td>\n",
       "    </tr>\n",
       "    <tr>\n",
       "      <th>2</th>\n",
       "      <td>0</td>\n",
       "      <td>bihday your majesty</td>\n",
       "      <td>bihday majesty</td>\n",
       "    </tr>\n",
       "    <tr>\n",
       "      <th>3</th>\n",
       "      <td>0</td>\n",
       "      <td>#model   i love u take with u all the time in urð±!!! ðððð",
       "ð¦ð¦ð¦</td>\n",
       "      <td>model love u take u time ur</td>\n",
       "    </tr>\n",
       "    <tr>\n",
       "      <th>4</th>\n",
       "      <td>0</td>\n",
       "      <td>factsguide: society now    #motivation</td>\n",
       "      <td>factsguide society motivation</td>\n",
       "    </tr>\n",
       "    <tr>\n",
       "      <th>5</th>\n",
       "      <td>0</td>\n",
       "      <td>[2/2] huge fan fare and big talking before they leave. chaos and pay disputes when they get there. #allshowandnogo</td>\n",
       "      <td>huge fan fare big talking leave chaos pay dispute get allshowandnogo</td>\n",
       "    </tr>\n",
       "    <tr>\n",
       "      <th>6</th>\n",
       "      <td>0</td>\n",
       "      <td>@user camping tomorrow @user @user @user @user @user @user @user dannyâ¦</td>\n",
       "      <td>camping tomorrow danny</td>\n",
       "    </tr>\n",
       "    <tr>\n",
       "      <th>7</th>\n",
       "      <td>0</td>\n",
       "      <td>the next school year is the year for exams.ð¯ can't think about that ð­ #school #exams   #hate #imagine #actorslife #revolutionschool #girl</td>\n",
       "      <td>next school year year exam think school exam hate imagine actorslife revolutionschool girl</td>\n",
       "    </tr>\n",
       "    <tr>\n",
       "      <th>8</th>\n",
       "      <td>0</td>\n",
       "      <td>we won!!! love the land!!! #allin #cavs #champions #cleveland #clevelandcavaliers  â¦</td>\n",
       "      <td>love land allin cavs champion cleveland clevelandcavaliers</td>\n",
       "    </tr>\n",
       "    <tr>\n",
       "      <th>9</th>\n",
       "      <td>0</td>\n",
       "      <td>@user @user welcome here !  i'm   it's so #gr8 !</td>\n",
       "      <td>welcome gr</td>\n",
       "    </tr>\n",
       "  </tbody>\n",
       "</table>\n",
       "</div>"
      ],
      "text/plain": [
       "   label  \\\n",
       "0      0   \n",
       "1      0   \n",
       "2      0   \n",
       "3      0   \n",
       "4      0   \n",
       "5      0   \n",
       "6      0   \n",
       "7      0   \n",
       "8      0   \n",
       "9      0   \n",
       "\n",
       "                                                                                                                                             tweet  \\\n",
       "0                                            @user when a father is dysfunctional and is so selfish he drags his kids into his dysfunction.   #run   \n",
       "1                       @user @user thanks for #lyft credit i can't use cause they don't offer wheelchair vans in pdx.    #disapointed #getthanked   \n",
       "2                                                                                                                              bihday your majesty   \n",
       "3                                                           #model   i love u take with u all the time in urð±!!! ðððð\n",
       "ð¦ð¦ð¦     \n",
       "4                                                                                                           factsguide: society now    #motivation   \n",
       "5                             [2/2] huge fan fare and big talking before they leave. chaos and pay disputes when they get there. #allshowandnogo     \n",
       "6                                                                        @user camping tomorrow @user @user @user @user @user @user @user dannyâ¦   \n",
       "7  the next school year is the year for exams.ð¯ can't think about that ð­ #school #exams   #hate #imagine #actorslife #revolutionschool #girl   \n",
       "8                                                          we won!!! love the land!!! #allin #cavs #champions #cleveland #clevelandcavaliers  â¦    \n",
       "9                                                                                                @user @user welcome here !  i'm   it's so #gr8 !    \n",
       "\n",
       "                                                                                tweet_cleaned  \n",
       "0                                       father dysfunctional selfish drag kid dysfunction run  \n",
       "1                thanks lyft credit use cause offer wheelchair van pdx disapointed getthanked  \n",
       "2                                                                              bihday majesty  \n",
       "3                                                                 model love u take u time ur  \n",
       "4                                                               factsguide society motivation  \n",
       "5                        huge fan fare big talking leave chaos pay dispute get allshowandnogo  \n",
       "6                                                                      camping tomorrow danny  \n",
       "7  next school year year exam think school exam hate imagine actorslife revolutionschool girl  \n",
       "8                                  love land allin cavs champion cleveland clevelandcavaliers  \n",
       "9                                                                                  welcome gr  "
      ]
     },
     "execution_count": 13,
     "metadata": {},
     "output_type": "execute_result"
    }
   ],
   "source": [
    "data['tweet_cleaned'] = data['tweet'].apply(preprocessing_tweet)\n",
    "\n",
    "data.head(n=10)"
   ]
  },
  {
   "cell_type": "markdown",
   "id": "3ea5b633",
   "metadata": {
    "id": "3ea5b633"
   },
   "source": [
    "Nakon obrade teksta moze se desiti da je `tweet_cleaned` prazna niska, u slucaju da se tweet sastoji samo od taga, stopwords i sl. Zato je potrebno utvrditi koliko takvih instanci postoji i na koji nacin ih obraditi"
   ]
  },
  {
   "cell_type": "code",
   "execution_count": 14,
   "id": "4f4f6362",
   "metadata": {
    "colab": {
     "base_uri": "https://localhost:8080/"
    },
    "id": "4f4f6362",
    "outputId": "3c7c20ca-cf9c-4a03-9c7a-f953ad3d7bee"
   },
   "outputs": [
    {
     "data": {
      "text/plain": [
       "(37, 3)"
      ]
     },
     "execution_count": 14,
     "metadata": {},
     "output_type": "execute_result"
    }
   ],
   "source": [
    "empty_tweets = data.loc[data['tweet_cleaned'] == '']\n",
    "empty_tweets.shape"
   ]
  },
  {
   "cell_type": "markdown",
   "id": "0c8216fd",
   "metadata": {
    "id": "0c8216fd"
   },
   "source": [
    "Kako je broj instanci neuporedivo manji od ukupnog broja instanci skupa podataka za treniranje mozemo ih izbaciti"
   ]
  },
  {
   "cell_type": "code",
   "execution_count": 15,
   "id": "893b15c3",
   "metadata": {
    "colab": {
     "base_uri": "https://localhost:8080/"
    },
    "id": "893b15c3",
    "outputId": "a79f2d68-d2d6-4620-9965-c08378295954"
   },
   "outputs": [
    {
     "data": {
      "text/plain": [
       "(29493, 3)"
      ]
     },
     "execution_count": 15,
     "metadata": {},
     "output_type": "execute_result"
    }
   ],
   "source": [
    "data = data.loc[data['tweet_cleaned'] != '']\n",
    "data.shape"
   ]
  },
  {
   "cell_type": "markdown",
   "id": "uYdqwOFMljtZ",
   "metadata": {
    "id": "uYdqwOFMljtZ"
   },
   "source": [
    "Dodajemo kolonu `length` koja ce nam biti potrebna za odredjivanje autlajera"
   ]
  },
  {
   "cell_type": "code",
   "execution_count": 16,
   "id": "UancplhIWj4b",
   "metadata": {
    "colab": {
     "base_uri": "https://localhost:8080/",
     "height": 354
    },
    "id": "UancplhIWj4b",
    "outputId": "cc52b257-4171-4248-c623-916b5642b6c7"
   },
   "outputs": [
    {
     "data": {
      "text/html": [
       "<div>\n",
       "<style scoped>\n",
       "    .dataframe tbody tr th:only-of-type {\n",
       "        vertical-align: middle;\n",
       "    }\n",
       "\n",
       "    .dataframe tbody tr th {\n",
       "        vertical-align: top;\n",
       "    }\n",
       "\n",
       "    .dataframe thead th {\n",
       "        text-align: right;\n",
       "    }\n",
       "</style>\n",
       "<table border=\"1\" class=\"dataframe\">\n",
       "  <thead>\n",
       "    <tr style=\"text-align: right;\">\n",
       "      <th></th>\n",
       "      <th>label</th>\n",
       "      <th>tweet</th>\n",
       "      <th>tweet_cleaned</th>\n",
       "      <th>length</th>\n",
       "    </tr>\n",
       "  </thead>\n",
       "  <tbody>\n",
       "    <tr>\n",
       "      <th>0</th>\n",
       "      <td>0</td>\n",
       "      <td>@user when a father is dysfunctional and is so selfish he drags his kids into his dysfunction.   #run</td>\n",
       "      <td>father dysfunctional selfish drag kid dysfunction run</td>\n",
       "      <td>53</td>\n",
       "    </tr>\n",
       "    <tr>\n",
       "      <th>1</th>\n",
       "      <td>0</td>\n",
       "      <td>@user @user thanks for #lyft credit i can't use cause they don't offer wheelchair vans in pdx.    #disapointed #getthanked</td>\n",
       "      <td>thanks lyft credit use cause offer wheelchair van pdx disapointed getthanked</td>\n",
       "      <td>76</td>\n",
       "    </tr>\n",
       "    <tr>\n",
       "      <th>2</th>\n",
       "      <td>0</td>\n",
       "      <td>bihday your majesty</td>\n",
       "      <td>bihday majesty</td>\n",
       "      <td>14</td>\n",
       "    </tr>\n",
       "    <tr>\n",
       "      <th>3</th>\n",
       "      <td>0</td>\n",
       "      <td>#model   i love u take with u all the time in urð±!!! ðððð",
       "ð¦ð¦ð¦</td>\n",
       "      <td>model love u take u time ur</td>\n",
       "      <td>27</td>\n",
       "    </tr>\n",
       "    <tr>\n",
       "      <th>4</th>\n",
       "      <td>0</td>\n",
       "      <td>factsguide: society now    #motivation</td>\n",
       "      <td>factsguide society motivation</td>\n",
       "      <td>29</td>\n",
       "    </tr>\n",
       "  </tbody>\n",
       "</table>\n",
       "</div>"
      ],
      "text/plain": [
       "   label  \\\n",
       "0      0   \n",
       "1      0   \n",
       "2      0   \n",
       "3      0   \n",
       "4      0   \n",
       "\n",
       "                                                                                                                        tweet  \\\n",
       "0                       @user when a father is dysfunctional and is so selfish he drags his kids into his dysfunction.   #run   \n",
       "1  @user @user thanks for #lyft credit i can't use cause they don't offer wheelchair vans in pdx.    #disapointed #getthanked   \n",
       "2                                                                                                         bihday your majesty   \n",
       "3                                      #model   i love u take with u all the time in urð±!!! ðððð\n",
       "ð¦ð¦ð¦     \n",
       "4                                                                                      factsguide: society now    #motivation   \n",
       "\n",
       "                                                                  tweet_cleaned  \\\n",
       "0                         father dysfunctional selfish drag kid dysfunction run   \n",
       "1  thanks lyft credit use cause offer wheelchair van pdx disapointed getthanked   \n",
       "2                                                                bihday majesty   \n",
       "3                                                   model love u take u time ur   \n",
       "4                                                 factsguide society motivation   \n",
       "\n",
       "   length  \n",
       "0      53  \n",
       "1      76  \n",
       "2      14  \n",
       "3      27  \n",
       "4      29  "
      ]
     },
     "execution_count": 16,
     "metadata": {},
     "output_type": "execute_result"
    }
   ],
   "source": [
    "data['length'] = data['tweet_cleaned'].str.len()\n",
    "data.head()"
   ]
  },
  {
   "cell_type": "markdown",
   "id": "mzE_MO6dRNKy",
   "metadata": {
    "id": "mzE_MO6dRNKy"
   },
   "source": [
    "## Podela na ulaznu odnosno izlaznu promenljivu i podela na trening i test skup"
   ]
  },
  {
   "cell_type": "markdown",
   "id": "4cabfd6c",
   "metadata": {
    "id": "4cabfd6c"
   },
   "source": [
    "Podela trening skupa na ulaznu (`X`) odnosno izlaznu promenljivu (`Y`). Na ulazu dobijamo tweet a na izlazu se dobija odgovor na pitanje da li tweet sadrzi govor mrznje"
   ]
  },
  {
   "cell_type": "code",
   "execution_count": 17,
   "id": "scALGG44NBUg",
   "metadata": {
    "id": "scALGG44NBUg"
   },
   "outputs": [],
   "source": [
    "X = data.drop(['label', 'tweet'], axis=1)\n",
    "Y = data['label']"
   ]
  },
  {
   "cell_type": "code",
   "execution_count": 18,
   "id": "BOTEGMCsNS9W",
   "metadata": {
    "colab": {
     "base_uri": "https://localhost:8080/",
     "height": 206
    },
    "id": "BOTEGMCsNS9W",
    "outputId": "e1bc7526-49da-46a7-b6c3-95b2c5747a04"
   },
   "outputs": [
    {
     "data": {
      "text/html": [
       "<div>\n",
       "<style scoped>\n",
       "    .dataframe tbody tr th:only-of-type {\n",
       "        vertical-align: middle;\n",
       "    }\n",
       "\n",
       "    .dataframe tbody tr th {\n",
       "        vertical-align: top;\n",
       "    }\n",
       "\n",
       "    .dataframe thead th {\n",
       "        text-align: right;\n",
       "    }\n",
       "</style>\n",
       "<table border=\"1\" class=\"dataframe\">\n",
       "  <thead>\n",
       "    <tr style=\"text-align: right;\">\n",
       "      <th></th>\n",
       "      <th>tweet_cleaned</th>\n",
       "      <th>length</th>\n",
       "    </tr>\n",
       "  </thead>\n",
       "  <tbody>\n",
       "    <tr>\n",
       "      <th>0</th>\n",
       "      <td>father dysfunctional selfish drag kid dysfunction run</td>\n",
       "      <td>53</td>\n",
       "    </tr>\n",
       "    <tr>\n",
       "      <th>1</th>\n",
       "      <td>thanks lyft credit use cause offer wheelchair van pdx disapointed getthanked</td>\n",
       "      <td>76</td>\n",
       "    </tr>\n",
       "    <tr>\n",
       "      <th>2</th>\n",
       "      <td>bihday majesty</td>\n",
       "      <td>14</td>\n",
       "    </tr>\n",
       "    <tr>\n",
       "      <th>3</th>\n",
       "      <td>model love u take u time ur</td>\n",
       "      <td>27</td>\n",
       "    </tr>\n",
       "    <tr>\n",
       "      <th>4</th>\n",
       "      <td>factsguide society motivation</td>\n",
       "      <td>29</td>\n",
       "    </tr>\n",
       "  </tbody>\n",
       "</table>\n",
       "</div>"
      ],
      "text/plain": [
       "                                                                  tweet_cleaned  \\\n",
       "0                         father dysfunctional selfish drag kid dysfunction run   \n",
       "1  thanks lyft credit use cause offer wheelchair van pdx disapointed getthanked   \n",
       "2                                                                bihday majesty   \n",
       "3                                                   model love u take u time ur   \n",
       "4                                                 factsguide society motivation   \n",
       "\n",
       "   length  \n",
       "0      53  \n",
       "1      76  \n",
       "2      14  \n",
       "3      27  \n",
       "4      29  "
      ]
     },
     "execution_count": 18,
     "metadata": {},
     "output_type": "execute_result"
    }
   ],
   "source": [
    "X.head()"
   ]
  },
  {
   "cell_type": "code",
   "execution_count": 19,
   "id": "bWY8zq2pNTIF",
   "metadata": {
    "colab": {
     "base_uri": "https://localhost:8080/"
    },
    "id": "bWY8zq2pNTIF",
    "outputId": "b0247d3d-f7cd-4677-e63e-5d7f837741cc"
   },
   "outputs": [
    {
     "data": {
      "text/plain": [
       "0    0\n",
       "1    0\n",
       "2    0\n",
       "3    0\n",
       "4    0\n",
       "Name: label, dtype: int64"
      ]
     },
     "execution_count": 19,
     "metadata": {},
     "output_type": "execute_result"
    }
   ],
   "source": [
    "Y.head()"
   ]
  },
  {
   "cell_type": "markdown",
   "id": "oWlcCIeLJJNj",
   "metadata": {
    "id": "oWlcCIeLJJNj"
   },
   "source": [
    "Sledi podela na Train i Test skup podataka"
   ]
  },
  {
   "cell_type": "code",
   "execution_count": 20,
   "id": "upE2KyhaJImD",
   "metadata": {
    "id": "upE2KyhaJImD"
   },
   "outputs": [],
   "source": [
    "(X_train, X_test, Y_train, Y_test) = train_test_split(X, Y, stratify=Y, test_size=0.3, random_state=42)"
   ]
  },
  {
   "cell_type": "code",
   "execution_count": 21,
   "id": "91h3gk_UOLzA",
   "metadata": {
    "colab": {
     "base_uri": "https://localhost:8080/"
    },
    "id": "91h3gk_UOLzA",
    "outputId": "ed2c4e49-fadd-4bff-c090-37d9b5a31cda"
   },
   "outputs": [
    {
     "name": "stdout",
     "output_type": "stream",
     "text": [
      "Broj instanci trening skupa: 20645\n",
      "Broj instanci test skupa: 8848\n"
     ]
    }
   ],
   "source": [
    "print(f'Broj instanci trening skupa: {X_train.shape[0]}')\n",
    "print(f'Broj instanci test skupa: {X_test.shape[0]}')"
   ]
  },
  {
   "cell_type": "markdown",
   "id": "cc89a2a6",
   "metadata": {
    "id": "cc89a2a6"
   },
   "source": [
    "### Autlajeri\n",
    "U slucaju obrade teksta duzina samog teksta moze uticati na sam model. Naime ukoliko se u nekom duzem tekstu nadju neke reci koje nisu znacajne za kategorizaciju tweet-a one mogu uticati na preprilagodjavanje modela. Nakon ociscenih tweet-ova dodata je kolona sa duzinom svakog tweet-a. Zatim se odredjuje Box plot na osnovu koga mozemo videti koje instance predstavljaju autlajere nakon cega slediti izbacivanje datih autlajera. Treba napomenuti da se obrada outliera vrsi nakon podele na train i test skup podataka kako se test skup podataka ne bi kompromitovao"
   ]
  },
  {
   "cell_type": "code",
   "execution_count": 22,
   "id": "EvTtRjRVXrg9",
   "metadata": {
    "colab": {
     "base_uri": "https://localhost:8080/",
     "height": 206
    },
    "id": "EvTtRjRVXrg9",
    "outputId": "1970ac57-9cbc-4c6c-d053-c494f9c28df4"
   },
   "outputs": [
    {
     "data": {
      "text/html": [
       "<div>\n",
       "<style scoped>\n",
       "    .dataframe tbody tr th:only-of-type {\n",
       "        vertical-align: middle;\n",
       "    }\n",
       "\n",
       "    .dataframe tbody tr th {\n",
       "        vertical-align: top;\n",
       "    }\n",
       "\n",
       "    .dataframe thead th {\n",
       "        text-align: right;\n",
       "    }\n",
       "</style>\n",
       "<table border=\"1\" class=\"dataframe\">\n",
       "  <thead>\n",
       "    <tr style=\"text-align: right;\">\n",
       "      <th></th>\n",
       "      <th>tweet_cleaned</th>\n",
       "      <th>length</th>\n",
       "      <th>label</th>\n",
       "    </tr>\n",
       "  </thead>\n",
       "  <tbody>\n",
       "    <tr>\n",
       "      <th>22001</th>\n",
       "      <td>wait stage look awesome see pm cmafest drinkingwithdolly flockon</td>\n",
       "      <td>64</td>\n",
       "      <td>0</td>\n",
       "    </tr>\n",
       "    <tr>\n",
       "      <th>18793</th>\n",
       "      <td>bbc news orlando gay nightclub shooting killed suspect omar mateen love love get smh</td>\n",
       "      <td>84</td>\n",
       "      <td>0</td>\n",
       "    </tr>\n",
       "    <tr>\n",
       "      <th>14980</th>\n",
       "      <td>friend netflix</td>\n",
       "      <td>14</td>\n",
       "      <td>0</td>\n",
       "    </tr>\n",
       "    <tr>\n",
       "      <th>10457</th>\n",
       "      <td>ceain area yeah seen video seeing little kid cry</td>\n",
       "      <td>48</td>\n",
       "      <td>0</td>\n",
       "    </tr>\n",
       "    <tr>\n",
       "      <th>29761</th>\n",
       "      <td>thnx pilot nick amazing experience grandcanyon afternoon</td>\n",
       "      <td>56</td>\n",
       "      <td>0</td>\n",
       "    </tr>\n",
       "  </tbody>\n",
       "</table>\n",
       "</div>"
      ],
      "text/plain": [
       "                                                                              tweet_cleaned  \\\n",
       "22001                      wait stage look awesome see pm cmafest drinkingwithdolly flockon   \n",
       "18793  bbc news orlando gay nightclub shooting killed suspect omar mateen love love get smh   \n",
       "14980                                                                        friend netflix   \n",
       "10457                                      ceain area yeah seen video seeing little kid cry   \n",
       "29761                              thnx pilot nick amazing experience grandcanyon afternoon   \n",
       "\n",
       "       length  label  \n",
       "22001      64      0  \n",
       "18793      84      0  \n",
       "14980      14      0  \n",
       "10457      48      0  \n",
       "29761      56      0  "
      ]
     },
     "execution_count": 22,
     "metadata": {},
     "output_type": "execute_result"
    }
   ],
   "source": [
    "train_data = pd.concat([X_train, Y_train], axis=1)\n",
    "\n",
    "train_data.head()"
   ]
  },
  {
   "cell_type": "code",
   "execution_count": 23,
   "id": "b79f8cd1",
   "metadata": {
    "id": "b79f8cd1"
   },
   "outputs": [],
   "source": [
    "hatred_tweets = train_data.loc[data['label'] == 1]['tweet_cleaned']\n",
    "hatred_tweets_len = hatred_tweets.str.len()\n",
    "non_hatred_tweets = train_data.loc[data['label'] == 0]['tweet_cleaned']\n",
    "non_hatred_tweets_len = non_hatred_tweets.str.len()"
   ]
  },
  {
   "cell_type": "code",
   "execution_count": 24,
   "id": "23014b33",
   "metadata": {
    "colab": {
     "base_uri": "https://localhost:8080/",
     "height": 408
    },
    "id": "23014b33",
    "outputId": "de198d98-80be-48c5-ddee-313de1669439"
   },
   "outputs": [
    {
     "data": {
      "text/plain": [
       "Text(0.5, 1.0, 'Non-Hatred tweets length')"
      ]
     },
     "execution_count": 24,
     "metadata": {},
     "output_type": "execute_result"
    },
    {
     "data": {
      "image/png": "[encoded data removed]",
      "text/plain": [
       "<Figure size 1000x400 with 2 Axes>"
      ]
     },
     "metadata": {},
     "output_type": "display_data"
    }
   ],
   "source": [
    "(hatred_Q1, hatred_Q3) = hatred_tweets_len.quantile([0.25, 0.75])\n",
    "hatred_IQR = hatred_Q3 - hatred_Q1\n",
    "hatred_min = hatred_Q1 - (1.5*hatred_IQR)\n",
    "hatred_max = hatred_Q3 + (1.5*hatred_IQR)\n",
    "\n",
    "(non_hatred_Q1, non_hatred_Q3) = non_hatred_tweets_len.quantile([0.25, 0.75])\n",
    "non_hatred_IQR = non_hatred_Q3 - non_hatred_Q1\n",
    "non_hatred_min = non_hatred_Q1 - (1.5*non_hatred_IQR)\n",
    "non_hatred_max = non_hatred_Q3 + (1.5*non_hatred_IQR)\n",
    "\n",
    "(fig, axes) = plt.subplots(nrows=1, ncols=2, figsize=(10, 4))\n",
    "plt.clf()\n",
    "\n",
    "plt.subplot(1, 3, 1)\n",
    "plt.boxplot(hatred_tweets_len)\n",
    "plt.title('Hatred tweets length')\n",
    "\n",
    "plt.subplot(1, 3, 2)\n",
    "plt.boxplot(non_hatred_tweets_len)\n",
    "plt.title('Non-Hatred tweets length')"
   ]
  },
  {
   "cell_type": "code",
   "execution_count": 25,
   "id": "485e7c3c",
   "metadata": {
    "colab": {
     "base_uri": "https://localhost:8080/",
     "height": 98
    },
    "id": "485e7c3c",
    "outputId": "5f21f021-40b8-44be-9653-a937e5562236",
    "scrolled": true
   },
   "outputs": [
    {
     "name": "stdout",
     "output_type": "stream",
     "text": [
      "Ukupno ima 1 tweet / tweet-ova sa govorom mrznje koji su autlajeri\n"
     ]
    },
    {
     "data": {
      "text/html": [
       "<div>\n",
       "<style scoped>\n",
       "    .dataframe tbody tr th:only-of-type {\n",
       "        vertical-align: middle;\n",
       "    }\n",
       "\n",
       "    .dataframe tbody tr th {\n",
       "        vertical-align: top;\n",
       "    }\n",
       "\n",
       "    .dataframe thead th {\n",
       "        text-align: right;\n",
       "    }\n",
       "</style>\n",
       "<table border=\"1\" class=\"dataframe\">\n",
       "  <thead>\n",
       "    <tr style=\"text-align: right;\">\n",
       "      <th></th>\n",
       "      <th>tweet_cleaned</th>\n",
       "      <th>length</th>\n",
       "      <th>label</th>\n",
       "    </tr>\n",
       "  </thead>\n",
       "  <tbody>\n",
       "    <tr>\n",
       "      <th>2784</th>\n",
       "      <td>happy newyear sameshitnewyear corruption trump terrorattack fundamentalism violence isi crisis hatred murder terrorism</td>\n",
       "      <td>118</td>\n",
       "      <td>1</td>\n",
       "    </tr>\n",
       "  </tbody>\n",
       "</table>\n",
       "</div>"
      ],
      "text/plain": [
       "                                                                                                               tweet_cleaned  \\\n",
       "2784  happy newyear sameshitnewyear corruption trump terrorattack fundamentalism violence isi crisis hatred murder terrorism   \n",
       "\n",
       "      length  label  \n",
       "2784     118      1  "
      ]
     },
     "execution_count": 25,
     "metadata": {},
     "output_type": "execute_result"
    }
   ],
   "source": [
    "hatred_outliers = train_data.loc[\n",
    "    (train_data['label'] == 1) &\n",
    "    ((train_data['length'] > hatred_max) |\n",
    "    (train_data['length'] < hatred_min))\n",
    "]\n",
    "\n",
    "print(f'Ukupno ima {hatred_outliers.shape[0]} tweet / tweet-ova sa govorom mrznje koji su autlajeri')\n",
    "hatred_outliers.head()"
   ]
  },
  {
   "cell_type": "code",
   "execution_count": 26,
   "id": "7a82e383",
   "metadata": {
    "colab": {
     "base_uri": "https://localhost:8080/",
     "height": 161
    },
    "id": "7a82e383",
    "outputId": "6cb5341a-127c-4375-a599-10449884a80b"
   },
   "outputs": [
    {
     "name": "stdout",
     "output_type": "stream",
     "text": [
      "Ukupno ima 3 tweet /  tweet-ova bez govora mrznje koji su autlajeri\n"
     ]
    },
    {
     "data": {
      "text/html": [
       "<div>\n",
       "<style scoped>\n",
       "    .dataframe tbody tr th:only-of-type {\n",
       "        vertical-align: middle;\n",
       "    }\n",
       "\n",
       "    .dataframe tbody tr th {\n",
       "        vertical-align: top;\n",
       "    }\n",
       "\n",
       "    .dataframe thead th {\n",
       "        text-align: right;\n",
       "    }\n",
       "</style>\n",
       "<table border=\"1\" class=\"dataframe\">\n",
       "  <thead>\n",
       "    <tr style=\"text-align: right;\">\n",
       "      <th></th>\n",
       "      <th>tweet_cleaned</th>\n",
       "      <th>length</th>\n",
       "      <th>label</th>\n",
       "    </tr>\n",
       "  </thead>\n",
       "  <tbody>\n",
       "    <tr>\n",
       "      <th>26600</th>\n",
       "      <td>auba wil go city vardy x liverpool morata wil stay juve n gud old giroud wil stil sta arsenal next season pathetic wenger</td>\n",
       "      <td>121</td>\n",
       "      <td>0</td>\n",
       "    </tr>\n",
       "    <tr>\n",
       "      <th>18958</th>\n",
       "      <td>epic video blm zombie v trump kid youcanalwaystelldemocraticvoterstheyrloud amp neverhavecorrectfactsthisolderblackmanispitiful</td>\n",
       "      <td>127</td>\n",
       "      <td>0</td>\n",
       "    </tr>\n",
       "    <tr>\n",
       "      <th>5846</th>\n",
       "      <td>controversy trifecta isi inspired mass shooting perpetrated legally purchased assault weapon aimed gay victim loveislove</td>\n",
       "      <td>120</td>\n",
       "      <td>0</td>\n",
       "    </tr>\n",
       "  </tbody>\n",
       "</table>\n",
       "</div>"
      ],
      "text/plain": [
       "                                                                                                                         tweet_cleaned  \\\n",
       "26600        auba wil go city vardy x liverpool morata wil stay juve n gud old giroud wil stil sta arsenal next season pathetic wenger   \n",
       "18958  epic video blm zombie v trump kid youcanalwaystelldemocraticvoterstheyrloud amp neverhavecorrectfactsthisolderblackmanispitiful   \n",
       "5846          controversy trifecta isi inspired mass shooting perpetrated legally purchased assault weapon aimed gay victim loveislove   \n",
       "\n",
       "       length  label  \n",
       "26600     121      0  \n",
       "18958     127      0  \n",
       "5846      120      0  "
      ]
     },
     "execution_count": 26,
     "metadata": {},
     "output_type": "execute_result"
    }
   ],
   "source": [
    "non_hatred_outliers = train_data.loc[\n",
    "    (train_data['label'] == 0) &\n",
    "    ((train_data['length'] > non_hatred_max) |\n",
    "    (train_data['length'] < non_hatred_min))\n",
    "]\n",
    "\n",
    "print(f'Ukupno ima {non_hatred_outliers.shape[0]} tweet /  tweet-ova bez govora mrznje koji su autlajeri')\n",
    "non_hatred_outliers.head()"
   ]
  },
  {
   "cell_type": "code",
   "execution_count": 27,
   "id": "14ee3d3c",
   "metadata": {
    "colab": {
     "base_uri": "https://localhost:8080/"
    },
    "id": "14ee3d3c",
    "outputId": "f3ca44fb-cdb0-4151-d569-84fc1e5d6b56"
   },
   "outputs": [
    {
     "data": {
      "text/plain": [
       "(20641, 3)"
      ]
     },
     "execution_count": 27,
     "metadata": {},
     "output_type": "execute_result"
    }
   ],
   "source": [
    "train_data.drop(hatred_outliers.index, inplace=True)\n",
    "train_data.drop(non_hatred_outliers.index, inplace=True)\n",
    "train_data.shape"
   ]
  },
  {
   "cell_type": "code",
   "execution_count": 28,
   "id": "ht3TzosZkAiQ",
   "metadata": {
    "colab": {
     "base_uri": "https://localhost:8080/",
     "height": 206
    },
    "id": "ht3TzosZkAiQ",
    "outputId": "fc8f3ef3-baa3-438f-951e-86f9724db195"
   },
   "outputs": [
    {
     "data": {
      "text/html": [
       "<div>\n",
       "<style scoped>\n",
       "    .dataframe tbody tr th:only-of-type {\n",
       "        vertical-align: middle;\n",
       "    }\n",
       "\n",
       "    .dataframe tbody tr th {\n",
       "        vertical-align: top;\n",
       "    }\n",
       "\n",
       "    .dataframe thead th {\n",
       "        text-align: right;\n",
       "    }\n",
       "</style>\n",
       "<table border=\"1\" class=\"dataframe\">\n",
       "  <thead>\n",
       "    <tr style=\"text-align: right;\">\n",
       "      <th></th>\n",
       "      <th>tweet_cleaned</th>\n",
       "      <th>length</th>\n",
       "      <th>label</th>\n",
       "    </tr>\n",
       "  </thead>\n",
       "  <tbody>\n",
       "    <tr>\n",
       "      <th>22001</th>\n",
       "      <td>wait stage look awesome see pm cmafest drinkingwithdolly flockon</td>\n",
       "      <td>64</td>\n",
       "      <td>0</td>\n",
       "    </tr>\n",
       "    <tr>\n",
       "      <th>18793</th>\n",
       "      <td>bbc news orlando gay nightclub shooting killed suspect omar mateen love love get smh</td>\n",
       "      <td>84</td>\n",
       "      <td>0</td>\n",
       "    </tr>\n",
       "    <tr>\n",
       "      <th>14980</th>\n",
       "      <td>friend netflix</td>\n",
       "      <td>14</td>\n",
       "      <td>0</td>\n",
       "    </tr>\n",
       "    <tr>\n",
       "      <th>10457</th>\n",
       "      <td>ceain area yeah seen video seeing little kid cry</td>\n",
       "      <td>48</td>\n",
       "      <td>0</td>\n",
       "    </tr>\n",
       "    <tr>\n",
       "      <th>29761</th>\n",
       "      <td>thnx pilot nick amazing experience grandcanyon afternoon</td>\n",
       "      <td>56</td>\n",
       "      <td>0</td>\n",
       "    </tr>\n",
       "  </tbody>\n",
       "</table>\n",
       "</div>"
      ],
      "text/plain": [
       "                                                                              tweet_cleaned  \\\n",
       "22001                      wait stage look awesome see pm cmafest drinkingwithdolly flockon   \n",
       "18793  bbc news orlando gay nightclub shooting killed suspect omar mateen love love get smh   \n",
       "14980                                                                        friend netflix   \n",
       "10457                                      ceain area yeah seen video seeing little kid cry   \n",
       "29761                              thnx pilot nick amazing experience grandcanyon afternoon   \n",
       "\n",
       "       length  label  \n",
       "22001      64      0  \n",
       "18793      84      0  \n",
       "14980      14      0  \n",
       "10457      48      0  \n",
       "29761      56      0  "
      ]
     },
     "execution_count": 28,
     "metadata": {},
     "output_type": "execute_result"
    }
   ],
   "source": [
    "train_data.head()"
   ]
  },
  {
   "cell_type": "markdown",
   "id": "932d684c",
   "metadata": {
    "id": "932d684c"
   },
   "source": [
    "## Vizuelni prikaz train podataka"
   ]
  },
  {
   "cell_type": "code",
   "execution_count": 29,
   "id": "W6p7QKXRj0Ub",
   "metadata": {
    "colab": {
     "base_uri": "https://localhost:8080/"
    },
    "id": "W6p7QKXRj0Ub",
    "outputId": "0058ee5a-cb6e-4840-a4e6-1c3c0ecdb917"
   },
   "outputs": [
    {
     "data": {
      "text/plain": [
       "22001                        wait stage look awesome see pm cmafest drinkingwithdolly flockon\n",
       "18793    bbc news orlando gay nightclub shooting killed suspect omar mateen love love get smh\n",
       "14980                                                                          friend netflix\n",
       "10457                                        ceain area yeah seen video seeing little kid cry\n",
       "29761                                thnx pilot nick amazing experience grandcanyon afternoon\n",
       "Name: tweet_cleaned, dtype: object"
      ]
     },
     "execution_count": 29,
     "metadata": {},
     "output_type": "execute_result"
    }
   ],
   "source": [
    "X_train = X_train['tweet_cleaned']\n",
    "X_test = X_test['tweet_cleaned']\n",
    "\n",
    "X_train.head()"
   ]
  },
  {
   "cell_type": "code",
   "execution_count": 33,
   "id": "8d488707",
   "metadata": {
    "colab": {
     "base_uri": "https://localhost:8080/",
     "height": 500
    },
    "id": "8d488707",
    "outputId": "5cec929c-8526-489c-c8c6-4ac46ea91b9f"
   },
   "outputs": [
    {
     "data": {
      "image/png": "[encoded data removed]",
      "text/plain": [
       "<Figure size 700x700 with 1 Axes>"
      ]
     },
     "metadata": {},
     "output_type": "display_data"
    }
   ],
   "source": [
    "all_tweets_img = np.array(Image.open('images/all_tweets.png'))\n",
    "\n",
    "all_tweets = ' '.join(X_train.tolist())\n",
    "\n",
    "plt.figure(figsize=(7, 7))\n",
    "wordcloud = WordCloud(\n",
    "    stopwords=stop_words,\n",
    "    max_words=100,\n",
    "    mask=all_tweets_img,\n",
    ").generate(all_tweets)\n",
    "\n",
    "plt.title('Najzastupljenije reci u trening podacima')\n",
    "plt.axis('off')\n",
    "plt.imshow(wordcloud)\n",
    "plt.show()"
   ]
  },
  {
   "cell_type": "code",
   "execution_count": 34,
   "id": "cfa51286",
   "metadata": {
    "colab": {
     "base_uri": "https://localhost:8080/",
     "height": 502
    },
    "id": "cfa51286",
    "outputId": "2c0cf34d-ca38-4639-e3cb-36d5d242d272",
    "scrolled": false
   },
   "outputs": [
    {
     "data": {
      "image/png": "[encoded data removed]",
      "text/plain": [
       "<Figure size 1000x500 with 1 Axes>"
      ]
     },
     "metadata": {},
     "output_type": "display_data"
    }
   ],
   "source": [
    "all_words = FreqDist(\n",
    "    ' '.join(X_train).split()\n",
    ").most_common(10)\n",
    "\n",
    "all_words_data = pd.DataFrame(all_words, columns=['words', 'frequency'])\n",
    "\n",
    "fig = plt.figure(figsize=(10,5))\n",
    "plt.bar(\n",
    "    all_words_data['words'].tolist(),\n",
    "    all_words_data['frequency'].tolist(),\n",
    "    width=0.5,\n",
    "    color='green'\n",
    ")\n",
    "\n",
    "plt.title('Najzastupljenije reci u trening podacima', fontsize=20)\n",
    "plt.xticks(rotation=45)\n",
    "plt.show()"
   ]
  },
  {
   "cell_type": "code",
   "execution_count": 35,
   "id": "742b0cde",
   "metadata": {
    "colab": {
     "base_uri": "https://localhost:8080/",
     "height": 500
    },
    "id": "742b0cde",
    "outputId": "ec19bc90-1319-40fa-a669-707fecd0d9d5"
   },
   "outputs": [
    {
     "data": {
      "image/png": "[encoded data removed]",
      "text/plain": [
       "<Figure size 700x700 with 1 Axes>"
      ]
     },
     "metadata": {},
     "output_type": "display_data"
    }
   ],
   "source": [
    "hatred_tweets_img = np.array(Image.open('images/hatred_tweets.png'))\n",
    "hatred_tweets_data = train_data.loc[train_data['label'] == 1]\n",
    "\n",
    "hatred_tweets = ' '.join(hatred_tweets_data['tweet_cleaned'].tolist())\n",
    "\n",
    "plt.figure(figsize=(7, 7))\n",
    "wordcloud = WordCloud(\n",
    "    stopwords=stop_words,\n",
    "    max_words=100,\n",
    "    mask=hatred_tweets_img,\n",
    ").generate(hatred_tweets)\n",
    "\n",
    "plt.title('Najzastupljenije reci u tweet-ovima koji sadrze elemente mrznje')\n",
    "plt.axis('off')\n",
    "plt.imshow(wordcloud)\n",
    "plt.show()"
   ]
  },
  {
   "cell_type": "code",
   "execution_count": 36,
   "id": "3d1be40f",
   "metadata": {
    "colab": {
     "base_uri": "https://localhost:8080/",
     "height": 506
    },
    "id": "3d1be40f",
    "outputId": "f56d5307-c43f-448c-b61f-d44d7d0e3a2c",
    "scrolled": false
   },
   "outputs": [
    {
     "data": {
      "image/png": "[encoded data removed]",
      "text/plain": [
       "<Figure size 1000x500 with 1 Axes>"
      ]
     },
     "metadata": {},
     "output_type": "display_data"
    }
   ],
   "source": [
    "hatred_words = FreqDist(\n",
    "    ' '.join(train_data.loc[train_data['label'] == 1]['tweet_cleaned']).split()\n",
    ").most_common(10)\n",
    "\n",
    "hatred_df = pd.DataFrame(hatred_words, columns=['words', 'frequency'])\n",
    "\n",
    "fig = plt.figure(figsize=(10,5))\n",
    "plt.bar(\n",
    "    hatred_df['words'].tolist(),\n",
    "    hatred_df['frequency'].tolist(),\n",
    "    width=0.5,\n",
    "    color='red'\n",
    ")\n",
    "\n",
    "plt.title('Najzastupljenije reci u tweet-ovima koji sadrze elemente mrznje', fontsize=16)\n",
    "plt.xticks(rotation=45)\n",
    "plt.show()"
   ]
  },
  {
   "cell_type": "code",
   "execution_count": 37,
   "id": "d1ff705e",
   "metadata": {
    "colab": {
     "base_uri": "https://localhost:8080/",
     "height": 500
    },
    "id": "d1ff705e",
    "outputId": "b28d194a-daff-4f7e-dfc9-634bbf6a5de8"
   },
   "outputs": [
    {
     "data": {
      "image/png": "[encoded data removed]",
      "text/plain": [
       "<Figure size 700x700 with 1 Axes>"
      ]
     },
     "metadata": {},
     "output_type": "display_data"
    }
   ],
   "source": [
    "non_hatred_tweets_img = np.array(Image.open('images/non-hatred_tweets.png'))\n",
    "non_hatred_tweets_data = train_data.loc[train_data['label'] == 0]\n",
    "\n",
    "non_hatred_tweets = ' '.join(non_hatred_tweets_data['tweet_cleaned'].tolist())\n",
    "\n",
    "plt.figure(figsize=(7, 7))\n",
    "wordcloud = WordCloud(\n",
    "    stopwords=stop_words,\n",
    "    max_words=100,\n",
    "    mask=non_hatred_tweets_img,\n",
    ").generate(non_hatred_tweets)\n",
    "\n",
    "plt.title('Najzastupljenije reci u tweet-ovima koji ne sadrze elemente mrznje')\n",
    "plt.axis('off')\n",
    "plt.imshow(wordcloud)\n",
    "plt.show()"
   ]
  },
  {
   "cell_type": "code",
   "execution_count": 38,
   "id": "26acc81b",
   "metadata": {
    "colab": {
     "base_uri": "https://localhost:8080/",
     "height": 496
    },
    "id": "26acc81b",
    "outputId": "4bdf8bf5-9020-453e-ef9d-c3022dd70400"
   },
   "outputs": [
    {
     "data": {
      "image/png": "[encoded data removed]",
      "text/plain": [
       "<Figure size 1000x500 with 1 Axes>"
      ]
     },
     "metadata": {},
     "output_type": "display_data"
    }
   ],
   "source": [
    "non_hatred_words = FreqDist(\n",
    "    ' '.join(train_data.loc[train_data['label'] == 0]['tweet_cleaned']).split()\n",
    ").most_common(10)\n",
    "\n",
    "non_hatred_df = pd.DataFrame(non_hatred_words, columns=['words', 'frequency'])\n",
    "\n",
    "fig = plt.figure(figsize=(10,5))\n",
    "plt.bar(\n",
    "    non_hatred_df['words'].tolist(),\n",
    "    non_hatred_df['frequency'].tolist(),\n",
    "    width=0.5,\n",
    "    color='green'\n",
    ")\n",
    "\n",
    "plt.title('Najzastupljenije reci u tweet-ovima koji ne sadrze elemente mrznje', fontsize=16)\n",
    "plt.xticks(rotation=45)\n",
    "plt.show()"
   ]
  },
  {
   "cell_type": "markdown",
   "id": "b1e09a11",
   "metadata": {
    "id": "b1e09a11"
   },
   "source": [
    "### Hatred vs Non-Hatred klase"
   ]
  },
  {
   "cell_type": "code",
   "execution_count": 39,
   "id": "8af2f5b1",
   "metadata": {
    "colab": {
     "base_uri": "https://localhost:8080/"
    },
    "id": "8af2f5b1",
    "outputId": "3447e42b-b49b-47b0-87a9-bd9f4a393a84"
   },
   "outputs": [
    {
     "name": "stdout",
     "output_type": "stream",
     "text": [
      "\u001b[31mBroj instanci odnosno broj tweet-ova koji su okaraksterisani kao govor mrznje: 1,405 (6.81%)\u001b[0m\n",
      "\u001b[32mBroj instanci odnosno broj tweet-ova koji nisu okarakterisani kao govor mrznje: 19,236 (93.19%)\u001b[0m\n"
     ]
    }
   ],
   "source": [
    "(non_hatred, hatred) = train_data['label'].value_counts()\n",
    "hatred_perc = hatred / (train_data.shape[0]) * 100\n",
    "non_hatred_perc = non_hatred / (train_data.shape[0]) * 100\n",
    "\n",
    "print(colored(\n",
    "    'Broj instanci odnosno broj tweet-ova koji su okaraksterisani kao govor mrznje: '\\\n",
    "    f'{hatred:,} ({hatred_perc:.2f}%)',\n",
    "    'red')\n",
    ")\n",
    "print(colored(\n",
    "    'Broj instanci odnosno broj tweet-ova koji nisu okarakterisani kao govor mrznje: '\\\n",
    "    f'{non_hatred:,} ({non_hatred_perc:.2f}%)',\n",
    "    'green')\n",
    ")"
   ]
  },
  {
   "cell_type": "code",
   "execution_count": 40,
   "id": "ad30fe1f",
   "metadata": {
    "colab": {
     "base_uri": "https://localhost:8080/",
     "height": 454
    },
    "id": "ad30fe1f",
    "outputId": "214531d4-b3a8-4e7e-97e8-bcba232ffd61",
    "scrolled": false
   },
   "outputs": [
    {
     "data": {
      "image/png": "[encoded data removed]",
      "text/plain": [
       "<Figure size 640x480 with 1 Axes>"
      ]
     },
     "metadata": {},
     "output_type": "display_data"
    }
   ],
   "source": [
    "labels = 'Hatred', 'Non-hatred'\n",
    "\n",
    "fig, ax = plt.subplots()\n",
    "fig.suptitle(t='Tweets', fontsize=16)\n",
    "\n",
    "ax.pie(\n",
    "    x=[hatred, non_hatred],\n",
    "    explode=(0.25, 0),\n",
    "    labels=labels,\n",
    "    colors=['Red', 'Green'],\n",
    "    autopct='%.2f',\n",
    "    shadow=True,\n",
    "    startangle=15\n",
    ");"
   ]
  },
  {
   "cell_type": "markdown",
   "id": "c340ac28",
   "metadata": {
    "id": "c340ac28"
   },
   "source": [
    "Iz prilozenog se moze videti da imamo problem sa nebalansiranim klasama gde su tweet-ovi koji su okarakterisani kao tweet-ovi koji ne sadrze govor mrznje zastupljeniji u nasem trening skupu (odnos 93.19% / 6.81%). Problem moze biti da se nas model preprilagodi podacima i da daje jako dobar accuracy ali da na nepoznatim podacima daje lose rezultate"
   ]
  },
  {
   "cell_type": "markdown",
   "id": "4bb0df0a",
   "metadata": {
    "id": "4bb0df0a"
   },
   "source": [
    "# Problem sa nebalansiranim klasama"
   ]
  },
  {
   "cell_type": "markdown",
   "id": "5a2d71c8",
   "metadata": {
    "id": "5a2d71c8"
   },
   "source": [
    "Kako nas trening skup sadrzi nebalansirane klase (odnos 93% - 7% u korist tweet-ova koji ne sadrze govor mrznje) moramo primeniti neku od tehnika rada sa nebalansiranim klasama.  \n",
    "- Oversampling (Prilagodjavanje manjeg skupa vecem)\n",
    "    - RandomOverSampler\n",
    "    - SMOTE\n",
    "- Undersampling (Prilagodjavanje veceg skupa manjem)\n",
    "    - RandomUnderSampling\n",
    "    - NearMiss\n",
    "    - CondenseNearestNeighbour\n",
    "- Combination Oversampling & Undersampling (Kombinacija prethodna dva)\n",
    "    - SMOTEENN\n",
    "- Imbalanced Ensemble\n",
    "    - BalancedRandomForestClassifier"
   ]
  },
  {
   "cell_type": "markdown",
   "id": "xVIPUHxIY6D6",
   "metadata": {
    "id": "xVIPUHxIY6D6"
   },
   "source": [
    "Pre primene nekih od modela za rad sa podacima potrebno je izvrsiti transformaciju nasih podataka iz tekstualne u numericku kategoriju koristecu `TfidVectorizer` klasu.  \n",
    "`TF-IDF` (`T`erm `F`requency - `I`nverse `D`ocument `F`requency) matrica koristi frekvenciju pojavljivanja reci da bi odredila koliko je data rec relevantna u datom dokumentu"
   ]
  },
  {
   "cell_type": "code",
   "execution_count": 30,
   "id": "AHIpkxt0ego2",
   "metadata": {
    "colab": {
     "base_uri": "https://localhost:8080/"
    },
    "id": "AHIpkxt0ego2",
    "outputId": "e53a82a9-57fe-4754-b105-216ebae0a3f6"
   },
   "outputs": [
    {
     "data": {
      "text/plain": [
       "array([[0., 0., 0., ..., 0., 0., 0.],\n",
       "       [0., 0., 0., ..., 0., 0., 0.],\n",
       "       [0., 0., 0., ..., 0., 0., 0.],\n",
       "       ...,\n",
       "       [0., 0., 0., ..., 0., 0., 0.],\n",
       "       [0., 0., 0., ..., 0., 0., 0.],\n",
       "       [0., 0., 0., ..., 0., 0., 0.]])"
      ]
     },
     "execution_count": 30,
     "metadata": {},
     "output_type": "execute_result"
    }
   ],
   "source": [
    "tf_idf_vectorizer = TfidfVectorizer(max_features=3000)\n",
    "tf_idf_vectorizer.fit(X_train)\n",
    "\n",
    "X_train_tf_idf = tf_idf_vectorizer.transform(X_train)\n",
    "X_test_tf_idf = tf_idf_vectorizer.transform(X_test)\n",
    "\n",
    "X_train_tf_idf.toarray()"
   ]
  },
  {
   "cell_type": "code",
   "execution_count": 31,
   "id": "_WHrsmd8EReb",
   "metadata": {
    "colab": {
     "base_uri": "https://localhost:8080/"
    },
    "id": "_WHrsmd8EReb",
    "outputId": "597955c6-fb48-4e86-a183-d01cc9ee7d63"
   },
   "outputs": [
    {
     "data": {
      "text/plain": [
       "(20645, 3000)"
      ]
     },
     "execution_count": 31,
     "metadata": {},
     "output_type": "execute_result"
    }
   ],
   "source": [
    "X_train_tf_idf.shape"
   ]
  },
  {
   "cell_type": "markdown",
   "id": "weY4EdCdm6X7",
   "metadata": {
    "id": "weY4EdCdm6X7"
   },
   "source": [
    "Standardni model koji bi koristili da nemamo problem sa nebalansiranima klasama. (Stabla odlucivanja)"
   ]
  },
  {
   "cell_type": "code",
   "execution_count": 32,
   "id": "be379bCS7oJu",
   "metadata": {
    "colab": {
     "base_uri": "https://localhost:8080/",
     "height": 75
    },
    "id": "be379bCS7oJu",
    "outputId": "b29e9904-e6a5-4993-e27b-20b88b77fcd4"
   },
   "outputs": [
    {
     "data": {
      "text/html": [
       "<style>#sk-container-id-1 {color: black;background-color: white;}#sk-container-id-1 pre{padding: 0;}#sk-container-id-1 div.sk-toggleable {background-color: white;}#sk-container-id-1 label.sk-toggleable__label {cursor: pointer;display: block;width: 100%;margin-bottom: 0;padding: 0.3em;box-sizing: border-box;text-align: center;}#sk-container-id-1 label.sk-toggleable__label-arrow:before {content: \"▸\";float: left;margin-right: 0.25em;color: #696969;}#sk-container-id-1 label.sk-toggleable__label-arrow:hover:before {color: black;}#sk-container-id-1 div.sk-estimator:hover label.sk-toggleable__label-arrow:before {color: black;}#sk-container-id-1 div.sk-toggleable__content {max-height: 0;max-width: 0;overflow: hidden;text-align: left;background-color: #f0f8ff;}#sk-container-id-1 div.sk-toggleable__content pre {margin: 0.2em;color: black;border-radius: 0.25em;background-color: #f0f8ff;}#sk-container-id-1 input.sk-toggleable__control:checked~div.sk-toggleable__content {max-height: 200px;max-width: 100%;overflow: auto;}#sk-container-id-1 input.sk-toggleable__control:checked~label.sk-toggleable__label-arrow:before {content: \"▾\";}#sk-container-id-1 div.sk-estimator input.sk-toggleable__control:checked~label.sk-toggleable__label {background-color: #d4ebff;}#sk-container-id-1 div.sk-label input.sk-toggleable__control:checked~label.sk-toggleable__label {background-color: #d4ebff;}#sk-container-id-1 input.sk-hidden--visually {border: 0;clip: rect(1px 1px 1px 1px);clip: rect(1px, 1px, 1px, 1px);height: 1px;margin: -1px;overflow: hidden;padding: 0;position: absolute;width: 1px;}#sk-container-id-1 div.sk-estimator {font-family: monospace;background-color: #f0f8ff;border: 1px dotted black;border-radius: 0.25em;box-sizing: border-box;margin-bottom: 0.5em;}#sk-container-id-1 div.sk-estimator:hover {background-color: #d4ebff;}#sk-container-id-1 div.sk-parallel-item::after {content: \"\";width: 100%;border-bottom: 1px solid gray;flex-grow: 1;}#sk-container-id-1 div.sk-label:hover label.sk-toggleable__label {background-color: #d4ebff;}#sk-container-id-1 div.sk-serial::before {content: \"\";position: absolute;border-left: 1px solid gray;box-sizing: border-box;top: 0;bottom: 0;left: 50%;z-index: 0;}#sk-container-id-1 div.sk-serial {display: flex;flex-direction: column;align-items: center;background-color: white;padding-right: 0.2em;padding-left: 0.2em;position: relative;}#sk-container-id-1 div.sk-item {position: relative;z-index: 1;}#sk-container-id-1 div.sk-parallel {display: flex;align-items: stretch;justify-content: center;background-color: white;position: relative;}#sk-container-id-1 div.sk-item::before, #sk-container-id-1 div.sk-parallel-item::before {content: \"\";position: absolute;border-left: 1px solid gray;box-sizing: border-box;top: 0;bottom: 0;left: 50%;z-index: -1;}#sk-container-id-1 div.sk-parallel-item {display: flex;flex-direction: column;z-index: 1;position: relative;background-color: white;}#sk-container-id-1 div.sk-parallel-item:first-child::after {align-self: flex-end;width: 50%;}#sk-container-id-1 div.sk-parallel-item:last-child::after {align-self: flex-start;width: 50%;}#sk-container-id-1 div.sk-parallel-item:only-child::after {width: 0;}#sk-container-id-1 div.sk-dashed-wrapped {border: 1px dashed gray;margin: 0 0.4em 0.5em 0.4em;box-sizing: border-box;padding-bottom: 0.4em;background-color: white;}#sk-container-id-1 div.sk-label label {font-family: monospace;font-weight: bold;display: inline-block;line-height: 1.2em;}#sk-container-id-1 div.sk-label-container {text-align: center;}#sk-container-id-1 div.sk-container {/* jupyter's `normalize.less` sets `[hidden] { display: none; }` but bootstrap.min.css set `[hidden] { display: none !important; }` so we also need the `!important` here to be able to override the default hidden behavior on the sphinx rendered scikit-learn.org. See: https://github.com/scikit-learn/scikit-learn/issues/21755 */display: inline-block !important;position: relative;}#sk-container-id-1 div.sk-text-repr-fallback {display: none;}</style><div id=\"sk-container-id-1\" class=\"sk-top-container\"><div class=\"sk-text-repr-fallback\"><pre>DecisionTreeClassifier(max_depth=6, min_samples_split=50)</pre><b>In a Jupyter environment, please rerun this cell to show the HTML representation or trust the notebook. <br />On GitHub, the HTML representation is unable to render, please try loading this page with nbviewer.org.</b></div><div class=\"sk-container\" hidden><div class=\"sk-item\"><div class=\"sk-estimator sk-toggleable\"><input class=\"sk-toggleable__control sk-hidden--visually\" id=\"sk-estimator-id-1\" type=\"checkbox\" checked><label for=\"sk-estimator-id-1\" class=\"sk-toggleable__label sk-toggleable__label-arrow\">DecisionTreeClassifier</label><div class=\"sk-toggleable__content\"><pre>DecisionTreeClassifier(max_depth=6, min_samples_split=50)</pre></div></div></div></div></div>"
      ],
      "text/plain": [
       "DecisionTreeClassifier(max_depth=6, min_samples_split=50)"
      ]
     },
     "execution_count": 32,
     "metadata": {},
     "output_type": "execute_result"
    }
   ],
   "source": [
    "model_dtc = DecisionTreeClassifier(max_depth=6, min_samples_split=50, criterion='gini')\n",
    "\n",
    "model_dtc.fit(X_train_tf_idf, Y_train)"
   ]
  },
  {
   "cell_type": "code",
   "execution_count": 33,
   "id": "IyNV08Zc7_kt",
   "metadata": {
    "colab": {
     "base_uri": "https://localhost:8080/"
    },
    "id": "IyNV08Zc7_kt",
    "outputId": "3c292143-a18d-4eed-dbc8-ec3217037dd8"
   },
   "outputs": [
    {
     "name": "stdout",
     "output_type": "stream",
     "text": [
      "0.9424728752260397\n"
     ]
    }
   ],
   "source": [
    "print(f'{model_dtc.score(X_test_tf_idf, Y_test)}')"
   ]
  },
  {
   "cell_type": "markdown",
   "id": "uzcOgm1SnQz2",
   "metadata": {
    "id": "uzcOgm1SnQz2"
   },
   "source": [
    "Accuracy naseg modela je 0.94, medjutim to nije prava slika modela s obzirom da nase klase nisu balansirane.  \n",
    "Accuracy se racuna po formuli: $ \\frac{TN + TP}{TP + FP + TN + FN} $, gde su parametri instance koje:  \n",
    "-  TN (True Negative) - Model predvidja da su negativne i one su negativne\n",
    "-  TP (True Positive) - Model predvidja da su pozitivne i one su pozitivne\n",
    "-  FN (False Negative) - Model predvidja da su negativne ali su one pozitivne\n",
    "-  FP (False Positive) - Model predvidja da su positivne ali su one negativne  \n",
    "\n",
    "Iz date formule se moze primetiti da losi rezultati u manjoj klasi ne uticu drasticno na konacan rezultat"
   ]
  },
  {
   "cell_type": "code",
   "execution_count": 34,
   "id": "XE-BlzNxlKqn",
   "metadata": {
    "colab": {
     "base_uri": "https://localhost:8080/"
    },
    "id": "XE-BlzNxlKqn",
    "outputId": "8793ec74-6b7e-40aa-9a7a-1f2036a8563f"
   },
   "outputs": [
    {
     "name": "stdout",
     "output_type": "stream",
     "text": [
      "True positive: 126\n",
      "False positive: 32\n",
      "True negative: 8213\n",
      "False negative: 477\n",
      "Accuracy: 0.9424728752260397\n"
     ]
    }
   ],
   "source": [
    "Y_pred = model_dtc.predict(X_test_tf_idf)\n",
    "\n",
    "CM = confusion_matrix(Y_test, Y_pred)\n",
    "\n",
    "(TN, FN, TP, FP) = CM[0][0], CM[1][0], CM[1][1], CM[0][1]\n",
    "\n",
    "print(f'True positive: {TP}')\n",
    "print(f'False positive: {FP}')\n",
    "print(f'True negative: {TN}')\n",
    "print(f'False negative: {FN}')\n",
    "\n",
    "print(f'Accuracy: {(TN + TP) / (TP + FP + TN + FN)}')"
   ]
  },
  {
   "cell_type": "markdown",
   "id": "9oPyTKPu0tzh",
   "metadata": {
    "id": "9oPyTKPu0tzh"
   },
   "source": [
    "Zato koristimo funkciju `classification_report_imbalanced` koja nam daje bolju sliku modela"
   ]
  },
  {
   "cell_type": "code",
   "execution_count": 35,
   "id": "R1Tkka7IWvL-",
   "metadata": {
    "colab": {
     "base_uri": "https://localhost:8080/"
    },
    "id": "R1Tkka7IWvL-",
    "outputId": "b922258f-1cad-426f-bc5b-fa5bf0837db9"
   },
   "outputs": [
    {
     "name": "stdout",
     "output_type": "stream",
     "text": [
      "                   pre       rec       spe        f1       geo       iba       sup\n",
      "\n",
      "          0       0.95      1.00      0.21      0.97      0.46      0.22      8245\n",
      "          1       0.80      0.21      1.00      0.33      0.46      0.19       603\n",
      "\n",
      "avg / total       0.94      0.94      0.26      0.93      0.46      0.22      8848\n",
      "\n"
     ]
    }
   ],
   "source": [
    "print(classification_report_imbalanced(Y_test, Y_pred))"
   ]
  },
  {
   "cell_type": "markdown",
   "id": "_481W-8i01o8",
   "metadata": {
    "id": "_481W-8i01o8"
   },
   "source": [
    "U tabeli se moze videti da nebalansiranost klasa dolazi do izrazaja pa je sledeci korak obrada nebalansiranih klasa"
   ]
  },
  {
   "cell_type": "markdown",
   "id": "5ZbOrCJ5dw2I",
   "metadata": {
    "id": "5ZbOrCJ5dw2I"
   },
   "source": [
    "SMOTE"
   ]
  },
  {
   "cell_type": "code",
   "execution_count": 36,
   "id": "zFL5cFJHXH9k",
   "metadata": {
    "id": "zFL5cFJHXH9k"
   },
   "outputs": [],
   "source": [
    "imbalanced_model_smote = make_pipeline(TfidfVectorizer(), SMOTE(), MultinomialNB())\n",
    "\n",
    "imbalanced_model_smote.fit(X_train, Y_train)\n",
    "\n",
    "Y_pred_smote = imbalanced_model_smote.predict(X_test)"
   ]
  },
  {
   "cell_type": "code",
   "execution_count": 37,
   "id": "mjsUhlluXIBK",
   "metadata": {
    "colab": {
     "base_uri": "https://localhost:8080/"
    },
    "id": "mjsUhlluXIBK",
    "outputId": "bc464983-7064-46fe-d472-8d2cf4d56db8"
   },
   "outputs": [
    {
     "name": "stdout",
     "output_type": "stream",
     "text": [
      "                   pre       rec       spe        f1       geo       iba       sup\n",
      "\n",
      "          0       0.99      0.91      0.85      0.95      0.88      0.78      8245\n",
      "          1       0.41      0.85      0.91      0.55      0.88      0.77       603\n",
      "\n",
      "avg / total       0.95      0.91      0.85      0.92      0.88      0.77      8848\n",
      "\n"
     ]
    }
   ],
   "source": [
    "print(classification_report_imbalanced(Y_test, Y_pred_smote))"
   ]
  },
  {
   "cell_type": "markdown",
   "id": "EvsgbhwTdzFd",
   "metadata": {
    "id": "EvsgbhwTdzFd"
   },
   "source": [
    "RandomOverSampler"
   ]
  },
  {
   "cell_type": "code",
   "execution_count": 38,
   "id": "kuPyAxrXd1bi",
   "metadata": {
    "id": "kuPyAxrXd1bi"
   },
   "outputs": [],
   "source": [
    "imbalanced_model_ros = make_pipeline(TfidfVectorizer(), RandomOverSampler(), MultinomialNB())\n",
    "\n",
    "imbalanced_model_ros.fit(X_train, Y_train)\n",
    "\n",
    "Y_pred_ros = imbalanced_model_ros.predict(X_test)"
   ]
  },
  {
   "cell_type": "code",
   "execution_count": 39,
   "id": "oNuMRMFPd1hx",
   "metadata": {
    "colab": {
     "base_uri": "https://localhost:8080/"
    },
    "id": "oNuMRMFPd1hx",
    "outputId": "80988124-11b1-41e9-ac62-f8dd2d86efa8"
   },
   "outputs": [
    {
     "name": "stdout",
     "output_type": "stream",
     "text": [
      "                   pre       rec       spe        f1       geo       iba       sup\n",
      "\n",
      "          0       0.99      0.91      0.86      0.95      0.88      0.78      8245\n",
      "          1       0.40      0.86      0.91      0.55      0.88      0.77       603\n",
      "\n",
      "avg / total       0.95      0.90      0.86      0.92      0.88      0.78      8848\n",
      "\n"
     ]
    }
   ],
   "source": [
    "print(classification_report_imbalanced(Y_test, Y_pred_ros))"
   ]
  },
  {
   "cell_type": "markdown",
   "id": "cmgCN7lUNoSu",
   "metadata": {
    "id": "cmgCN7lUNoSu"
   },
   "source": [
    "Kako RandomOverSampler i SMOTE daju jako slicne rezultate koristicemo RandomOverSampler (laksi rad sa tekstualnim podacima)"
   ]
  },
  {
   "cell_type": "code",
   "execution_count": 40,
   "id": "c2YLDDPTNxVb",
   "metadata": {
    "id": "c2YLDDPTNxVb"
   },
   "outputs": [],
   "source": [
    "ros = RandomOverSampler(random_state=0, sampling_strategy='minority')\n",
    "\n",
    "(X_resampled_ros, Y_resampled_ros) = ros.fit_resample(np.array(X_train).reshape(-1, 1), Y_train)\n",
    "\n",
    "X_resampled_ros_list = [item for row in X_resampled_ros for item in row]"
   ]
  },
  {
   "cell_type": "code",
   "execution_count": 41,
   "id": "dcCUioHAN9Fb",
   "metadata": {
    "id": "dcCUioHAN9Fb"
   },
   "outputs": [],
   "source": [
    "X_resampled_ros_df = pd.Series(X_resampled_ros_list)"
   ]
  },
  {
   "cell_type": "markdown",
   "id": "ZCgZne_V-nCH",
   "metadata": {
    "id": "ZCgZne_V-nCH"
   },
   "source": [
    "## Cuvamo novi set podataka za potrebe algoritama klasifikcije"
   ]
  },
  {
   "cell_type": "code",
   "execution_count": 42,
   "id": "97ti1blJBW23",
   "metadata": {
    "id": "97ti1blJBW23"
   },
   "outputs": [],
   "source": [
    "tf_idf_vectorizer_classification = TfidfVectorizer(max_features=3000)\n",
    "tf_idf_vectorizer_classification.fit(X_resampled_ros_df)\n",
    "\n",
    "X_resampled_ros_tf_idf = tf_idf_vectorizer_classification.transform(X_resampled_ros_df)\n",
    "X_test_ros_tf_idf = tf_idf_vectorizer_classification.transform(X_test)"
   ]
  },
  {
   "cell_type": "code",
   "execution_count": 43,
   "id": "RFFs-dwX-uNK",
   "metadata": {
    "colab": {
     "base_uri": "https://localhost:8080/",
     "height": 236
    },
    "id": "RFFs-dwX-uNK",
    "outputId": "5aff4c13-9774-40cc-b144-ca3c457304b4"
   },
   "outputs": [
    {
     "data": {
      "text/html": [
       "<div>\n",
       "<style scoped>\n",
       "    .dataframe tbody tr th:only-of-type {\n",
       "        vertical-align: middle;\n",
       "    }\n",
       "\n",
       "    .dataframe tbody tr th {\n",
       "        vertical-align: top;\n",
       "    }\n",
       "\n",
       "    .dataframe thead th {\n",
       "        text-align: right;\n",
       "    }\n",
       "</style>\n",
       "<table border=\"1\" class=\"dataframe\">\n",
       "  <thead>\n",
       "    <tr style=\"text-align: right;\">\n",
       "      <th></th>\n",
       "      <th>able</th>\n",
       "      <th>ableism</th>\n",
       "      <th>abou</th>\n",
       "      <th>absence</th>\n",
       "      <th>absolutely</th>\n",
       "      <th>absurd</th>\n",
       "      <th>abt</th>\n",
       "      <th>abuse</th>\n",
       "      <th>abusive</th>\n",
       "      <th>acceptable</th>\n",
       "      <th>...</th>\n",
       "      <th>yup</th>\n",
       "      <th>yur</th>\n",
       "      <th>zero</th>\n",
       "      <th>zille</th>\n",
       "      <th>zionazi</th>\n",
       "      <th>zionazis</th>\n",
       "      <th>zionism</th>\n",
       "      <th>zionist</th>\n",
       "      <th>zuma</th>\n",
       "      <th>label</th>\n",
       "    </tr>\n",
       "  </thead>\n",
       "  <tbody>\n",
       "    <tr>\n",
       "      <th>0</th>\n",
       "      <td>0.0</td>\n",
       "      <td>0.0</td>\n",
       "      <td>0.0</td>\n",
       "      <td>0.0</td>\n",
       "      <td>0.0</td>\n",
       "      <td>0.0</td>\n",
       "      <td>0.0</td>\n",
       "      <td>0.0</td>\n",
       "      <td>0.0</td>\n",
       "      <td>0.0</td>\n",
       "      <td>...</td>\n",
       "      <td>0.0</td>\n",
       "      <td>0.0</td>\n",
       "      <td>0.0</td>\n",
       "      <td>0.0</td>\n",
       "      <td>0.0</td>\n",
       "      <td>0.0</td>\n",
       "      <td>0.0</td>\n",
       "      <td>0.0</td>\n",
       "      <td>0.0</td>\n",
       "      <td>0</td>\n",
       "    </tr>\n",
       "    <tr>\n",
       "      <th>1</th>\n",
       "      <td>0.0</td>\n",
       "      <td>0.0</td>\n",
       "      <td>0.0</td>\n",
       "      <td>0.0</td>\n",
       "      <td>0.0</td>\n",
       "      <td>0.0</td>\n",
       "      <td>0.0</td>\n",
       "      <td>0.0</td>\n",
       "      <td>0.0</td>\n",
       "      <td>0.0</td>\n",
       "      <td>...</td>\n",
       "      <td>0.0</td>\n",
       "      <td>0.0</td>\n",
       "      <td>0.0</td>\n",
       "      <td>0.0</td>\n",
       "      <td>0.0</td>\n",
       "      <td>0.0</td>\n",
       "      <td>0.0</td>\n",
       "      <td>0.0</td>\n",
       "      <td>0.0</td>\n",
       "      <td>0</td>\n",
       "    </tr>\n",
       "    <tr>\n",
       "      <th>2</th>\n",
       "      <td>0.0</td>\n",
       "      <td>0.0</td>\n",
       "      <td>0.0</td>\n",
       "      <td>0.0</td>\n",
       "      <td>0.0</td>\n",
       "      <td>0.0</td>\n",
       "      <td>0.0</td>\n",
       "      <td>0.0</td>\n",
       "      <td>0.0</td>\n",
       "      <td>0.0</td>\n",
       "      <td>...</td>\n",
       "      <td>0.0</td>\n",
       "      <td>0.0</td>\n",
       "      <td>0.0</td>\n",
       "      <td>0.0</td>\n",
       "      <td>0.0</td>\n",
       "      <td>0.0</td>\n",
       "      <td>0.0</td>\n",
       "      <td>0.0</td>\n",
       "      <td>0.0</td>\n",
       "      <td>0</td>\n",
       "    </tr>\n",
       "    <tr>\n",
       "      <th>3</th>\n",
       "      <td>0.0</td>\n",
       "      <td>0.0</td>\n",
       "      <td>0.0</td>\n",
       "      <td>0.0</td>\n",
       "      <td>0.0</td>\n",
       "      <td>0.0</td>\n",
       "      <td>0.0</td>\n",
       "      <td>0.0</td>\n",
       "      <td>0.0</td>\n",
       "      <td>0.0</td>\n",
       "      <td>...</td>\n",
       "      <td>0.0</td>\n",
       "      <td>0.0</td>\n",
       "      <td>0.0</td>\n",
       "      <td>0.0</td>\n",
       "      <td>0.0</td>\n",
       "      <td>0.0</td>\n",
       "      <td>0.0</td>\n",
       "      <td>0.0</td>\n",
       "      <td>0.0</td>\n",
       "      <td>0</td>\n",
       "    </tr>\n",
       "    <tr>\n",
       "      <th>4</th>\n",
       "      <td>0.0</td>\n",
       "      <td>0.0</td>\n",
       "      <td>0.0</td>\n",
       "      <td>0.0</td>\n",
       "      <td>0.0</td>\n",
       "      <td>0.0</td>\n",
       "      <td>0.0</td>\n",
       "      <td>0.0</td>\n",
       "      <td>0.0</td>\n",
       "      <td>0.0</td>\n",
       "      <td>...</td>\n",
       "      <td>0.0</td>\n",
       "      <td>0.0</td>\n",
       "      <td>0.0</td>\n",
       "      <td>0.0</td>\n",
       "      <td>0.0</td>\n",
       "      <td>0.0</td>\n",
       "      <td>0.0</td>\n",
       "      <td>0.0</td>\n",
       "      <td>0.0</td>\n",
       "      <td>0</td>\n",
       "    </tr>\n",
       "  </tbody>\n",
       "</table>\n",
       "<p>5 rows × 3001 columns</p>\n",
       "</div>"
      ],
      "text/plain": [
       "   able  ableism  abou  absence  absolutely  absurd  abt  abuse  abusive  \\\n",
       "0   0.0      0.0   0.0      0.0         0.0     0.0  0.0    0.0      0.0   \n",
       "1   0.0      0.0   0.0      0.0         0.0     0.0  0.0    0.0      0.0   \n",
       "2   0.0      0.0   0.0      0.0         0.0     0.0  0.0    0.0      0.0   \n",
       "3   0.0      0.0   0.0      0.0         0.0     0.0  0.0    0.0      0.0   \n",
       "4   0.0      0.0   0.0      0.0         0.0     0.0  0.0    0.0      0.0   \n",
       "\n",
       "   acceptable  ...  yup  yur  zero  zille  zionazi  zionazis  zionism  \\\n",
       "0         0.0  ...  0.0  0.0   0.0    0.0      0.0       0.0      0.0   \n",
       "1         0.0  ...  0.0  0.0   0.0    0.0      0.0       0.0      0.0   \n",
       "2         0.0  ...  0.0  0.0   0.0    0.0      0.0       0.0      0.0   \n",
       "3         0.0  ...  0.0  0.0   0.0    0.0      0.0       0.0      0.0   \n",
       "4         0.0  ...  0.0  0.0   0.0    0.0      0.0       0.0      0.0   \n",
       "\n",
       "   zionist  zuma  label  \n",
       "0      0.0   0.0      0  \n",
       "1      0.0   0.0      0  \n",
       "2      0.0   0.0      0  \n",
       "3      0.0   0.0      0  \n",
       "4      0.0   0.0      0  \n",
       "\n",
       "[5 rows x 3001 columns]"
      ]
     },
     "execution_count": 43,
     "metadata": {},
     "output_type": "execute_result"
    }
   ],
   "source": [
    "train_tf_idf_ros_df = pd.concat(\n",
    "    [\n",
    "        pd.DataFrame(\n",
    "            X_resampled_ros_tf_idf.toarray(),\n",
    "            columns=tf_idf_vectorizer_classification.get_feature_names_out()\n",
    "        ),\n",
    "        Y_resampled_ros\n",
    "    ],\n",
    "    axis=1\n",
    ")\n",
    "\n",
    "train_tf_idf_ros_df.head()"
   ]
  },
  {
   "cell_type": "markdown",
   "id": "9SAfUlY9ahHm",
   "metadata": {
    "id": "9SAfUlY9ahHm"
   },
   "source": [
    "Prilikom konkatanacije `Series` i `DataFrame-a` dolazi do spajanja na osnovu index-a, kako se prilikom transformacije iz tekstualne u numericku kategoriju dobija niz a kasnije taj niz koristi za kreiranje novog DataFrame-a indeksi ce biti resetovani, pa je to isto potrebno uraditi za Y_test podatke kako bi podaci bili ispravno upareni"
   ]
  },
  {
   "cell_type": "code",
   "execution_count": 44,
   "id": "QBA9ssJmaVpT",
   "metadata": {
    "id": "QBA9ssJmaVpT"
   },
   "outputs": [],
   "source": [
    "Y_test.index = range(0, Y_test.shape[0])"
   ]
  },
  {
   "cell_type": "code",
   "execution_count": 45,
   "id": "f40AEwM2JO1K",
   "metadata": {
    "colab": {
     "base_uri": "https://localhost:8080/",
     "height": 253
    },
    "id": "f40AEwM2JO1K",
    "outputId": "bbfb0590-e6e1-452f-ff66-619b473bb67d"
   },
   "outputs": [
    {
     "name": "stdout",
     "output_type": "stream",
     "text": [
      "(8848, 3001)\n"
     ]
    },
    {
     "data": {
      "text/html": [
       "<div>\n",
       "<style scoped>\n",
       "    .dataframe tbody tr th:only-of-type {\n",
       "        vertical-align: middle;\n",
       "    }\n",
       "\n",
       "    .dataframe tbody tr th {\n",
       "        vertical-align: top;\n",
       "    }\n",
       "\n",
       "    .dataframe thead th {\n",
       "        text-align: right;\n",
       "    }\n",
       "</style>\n",
       "<table border=\"1\" class=\"dataframe\">\n",
       "  <thead>\n",
       "    <tr style=\"text-align: right;\">\n",
       "      <th></th>\n",
       "      <th>able</th>\n",
       "      <th>ableism</th>\n",
       "      <th>abou</th>\n",
       "      <th>absence</th>\n",
       "      <th>absolutely</th>\n",
       "      <th>absurd</th>\n",
       "      <th>abt</th>\n",
       "      <th>abuse</th>\n",
       "      <th>abusive</th>\n",
       "      <th>acceptable</th>\n",
       "      <th>...</th>\n",
       "      <th>yup</th>\n",
       "      <th>yur</th>\n",
       "      <th>zero</th>\n",
       "      <th>zille</th>\n",
       "      <th>zionazi</th>\n",
       "      <th>zionazis</th>\n",
       "      <th>zionism</th>\n",
       "      <th>zionist</th>\n",
       "      <th>zuma</th>\n",
       "      <th>label</th>\n",
       "    </tr>\n",
       "  </thead>\n",
       "  <tbody>\n",
       "    <tr>\n",
       "      <th>0</th>\n",
       "      <td>0.0</td>\n",
       "      <td>0.0</td>\n",
       "      <td>0.0</td>\n",
       "      <td>0.0</td>\n",
       "      <td>0.0</td>\n",
       "      <td>0.0</td>\n",
       "      <td>0.0</td>\n",
       "      <td>0.0</td>\n",
       "      <td>0.0</td>\n",
       "      <td>0.0</td>\n",
       "      <td>...</td>\n",
       "      <td>0.0</td>\n",
       "      <td>0.0</td>\n",
       "      <td>0.0</td>\n",
       "      <td>0.0</td>\n",
       "      <td>0.0</td>\n",
       "      <td>0.0</td>\n",
       "      <td>0.0</td>\n",
       "      <td>0.0</td>\n",
       "      <td>0.0</td>\n",
       "      <td>0</td>\n",
       "    </tr>\n",
       "    <tr>\n",
       "      <th>1</th>\n",
       "      <td>0.0</td>\n",
       "      <td>0.0</td>\n",
       "      <td>0.0</td>\n",
       "      <td>0.0</td>\n",
       "      <td>0.0</td>\n",
       "      <td>0.0</td>\n",
       "      <td>0.0</td>\n",
       "      <td>0.0</td>\n",
       "      <td>0.0</td>\n",
       "      <td>0.0</td>\n",
       "      <td>...</td>\n",
       "      <td>0.0</td>\n",
       "      <td>0.0</td>\n",
       "      <td>0.0</td>\n",
       "      <td>0.0</td>\n",
       "      <td>0.0</td>\n",
       "      <td>0.0</td>\n",
       "      <td>0.0</td>\n",
       "      <td>0.0</td>\n",
       "      <td>0.0</td>\n",
       "      <td>0</td>\n",
       "    </tr>\n",
       "    <tr>\n",
       "      <th>2</th>\n",
       "      <td>0.0</td>\n",
       "      <td>0.0</td>\n",
       "      <td>0.0</td>\n",
       "      <td>0.0</td>\n",
       "      <td>0.0</td>\n",
       "      <td>0.0</td>\n",
       "      <td>0.0</td>\n",
       "      <td>0.0</td>\n",
       "      <td>0.0</td>\n",
       "      <td>0.0</td>\n",
       "      <td>...</td>\n",
       "      <td>0.0</td>\n",
       "      <td>0.0</td>\n",
       "      <td>0.0</td>\n",
       "      <td>0.0</td>\n",
       "      <td>0.0</td>\n",
       "      <td>0.0</td>\n",
       "      <td>0.0</td>\n",
       "      <td>0.0</td>\n",
       "      <td>0.0</td>\n",
       "      <td>0</td>\n",
       "    </tr>\n",
       "    <tr>\n",
       "      <th>3</th>\n",
       "      <td>0.0</td>\n",
       "      <td>0.0</td>\n",
       "      <td>0.0</td>\n",
       "      <td>0.0</td>\n",
       "      <td>0.0</td>\n",
       "      <td>0.0</td>\n",
       "      <td>0.0</td>\n",
       "      <td>0.0</td>\n",
       "      <td>0.0</td>\n",
       "      <td>0.0</td>\n",
       "      <td>...</td>\n",
       "      <td>0.0</td>\n",
       "      <td>0.0</td>\n",
       "      <td>0.0</td>\n",
       "      <td>0.0</td>\n",
       "      <td>0.0</td>\n",
       "      <td>0.0</td>\n",
       "      <td>0.0</td>\n",
       "      <td>0.0</td>\n",
       "      <td>0.0</td>\n",
       "      <td>0</td>\n",
       "    </tr>\n",
       "    <tr>\n",
       "      <th>4</th>\n",
       "      <td>0.0</td>\n",
       "      <td>0.0</td>\n",
       "      <td>0.0</td>\n",
       "      <td>0.0</td>\n",
       "      <td>0.0</td>\n",
       "      <td>0.0</td>\n",
       "      <td>0.0</td>\n",
       "      <td>0.0</td>\n",
       "      <td>0.0</td>\n",
       "      <td>0.0</td>\n",
       "      <td>...</td>\n",
       "      <td>0.0</td>\n",
       "      <td>0.0</td>\n",
       "      <td>0.0</td>\n",
       "      <td>0.0</td>\n",
       "      <td>0.0</td>\n",
       "      <td>0.0</td>\n",
       "      <td>0.0</td>\n",
       "      <td>0.0</td>\n",
       "      <td>0.0</td>\n",
       "      <td>0</td>\n",
       "    </tr>\n",
       "  </tbody>\n",
       "</table>\n",
       "<p>5 rows × 3001 columns</p>\n",
       "</div>"
      ],
      "text/plain": [
       "   able  ableism  abou  absence  absolutely  absurd  abt  abuse  abusive  \\\n",
       "0   0.0      0.0   0.0      0.0         0.0     0.0  0.0    0.0      0.0   \n",
       "1   0.0      0.0   0.0      0.0         0.0     0.0  0.0    0.0      0.0   \n",
       "2   0.0      0.0   0.0      0.0         0.0     0.0  0.0    0.0      0.0   \n",
       "3   0.0      0.0   0.0      0.0         0.0     0.0  0.0    0.0      0.0   \n",
       "4   0.0      0.0   0.0      0.0         0.0     0.0  0.0    0.0      0.0   \n",
       "\n",
       "   acceptable  ...  yup  yur  zero  zille  zionazi  zionazis  zionism  \\\n",
       "0         0.0  ...  0.0  0.0   0.0    0.0      0.0       0.0      0.0   \n",
       "1         0.0  ...  0.0  0.0   0.0    0.0      0.0       0.0      0.0   \n",
       "2         0.0  ...  0.0  0.0   0.0    0.0      0.0       0.0      0.0   \n",
       "3         0.0  ...  0.0  0.0   0.0    0.0      0.0       0.0      0.0   \n",
       "4         0.0  ...  0.0  0.0   0.0    0.0      0.0       0.0      0.0   \n",
       "\n",
       "   zionist  zuma  label  \n",
       "0      0.0   0.0      0  \n",
       "1      0.0   0.0      0  \n",
       "2      0.0   0.0      0  \n",
       "3      0.0   0.0      0  \n",
       "4      0.0   0.0      0  \n",
       "\n",
       "[5 rows x 3001 columns]"
      ]
     },
     "execution_count": 45,
     "metadata": {},
     "output_type": "execute_result"
    }
   ],
   "source": [
    "test_tf_idf_ros_df = pd.concat(\n",
    "    [\n",
    "        pd.DataFrame(\n",
    "            X_test_ros_tf_idf.toarray(),\n",
    "            columns=tf_idf_vectorizer_classification.get_feature_names_out()\n",
    "        ),\n",
    "        Y_test\n",
    "    ],\n",
    "    axis=1\n",
    ")\n",
    "\n",
    "print(test_tf_idf_ros_df.shape)\n",
    "test_tf_idf_ros_df.head()"
   ]
  },
  {
   "cell_type": "code",
   "execution_count": 59,
   "id": "ZwsuqZ4cBPcC",
   "metadata": {
    "id": "ZwsuqZ4cBPcC"
   },
   "outputs": [],
   "source": [
    "train_tf_idf_ros_df.to_csv('dataset/classification/train.csv', index=False)\n",
    "test_tf_idf_ros_df.to_csv('dataset/classification/test.csv', index=False)"
   ]
  },
  {
   "cell_type": "markdown",
   "id": "cd380db0",
   "metadata": {},
   "source": [
    "## Cuvamo novi set podataka za potrebe algoritama klasterovanja"
   ]
  },
  {
   "cell_type": "code",
   "execution_count": 46,
   "id": "98f7ce30",
   "metadata": {},
   "outputs": [
    {
     "data": {
      "text/plain": [
       "38478                              tag dwayne johnson provocative statement scared agent like shame\n",
       "38479                                                                 excited use oneblade phillips\n",
       "38480                       thanks autism film plan hotting amp andrew hard work coming together xx\n",
       "38481                                   right enjoying every single day yong forever th anniversary\n",
       "38482                                                                                    thanks jan\n",
       "                                                    ...                                            \n",
       "47321                        prayer victim orlando shooting victim especially lgbt community tragic\n",
       "47322    top food item seasonal affective disorder patient must avoid peh busselton hoba wellington\n",
       "47323          bit colour brighten grey morning kidsroom scandi fermliving dollshouse retrotoys toy\n",
       "47324                           chick fil heard boy say let pretend terrorist attack signofthetimes\n",
       "47325                                                        simple sincere smile make u others ali\n",
       "Name: tweet_cleaned, Length: 8848, dtype: object"
      ]
     },
     "execution_count": 46,
     "metadata": {},
     "output_type": "execute_result"
    }
   ],
   "source": [
    "X_test.index = range(X_resampled_ros_df.shape[0], X_resampled_ros_df.shape[0] + X_test.shape[0])\n",
    "X_test"
   ]
  },
  {
   "cell_type": "code",
   "execution_count": 47,
   "id": "fe79d4ab",
   "metadata": {},
   "outputs": [
    {
     "data": {
      "text/plain": [
       "0                                  wait stage look awesome see pm cmafest drinkingwithdolly flockon\n",
       "1              bbc news orlando gay nightclub shooting killed suspect omar mateen love love get smh\n",
       "2                                                                                    friend netflix\n",
       "3                                                  ceain area yeah seen video seeing little kid cry\n",
       "4                                          thnx pilot nick amazing experience grandcanyon afternoon\n",
       "                                                    ...                                            \n",
       "47321                        prayer victim orlando shooting victim especially lgbt community tragic\n",
       "47322    top food item seasonal affective disorder patient must avoid peh busselton hoba wellington\n",
       "47323          bit colour brighten grey morning kidsroom scandi fermliving dollshouse retrotoys toy\n",
       "47324                           chick fil heard boy say let pretend terrorist attack signofthetimes\n",
       "47325                                                        simple sincere smile make u others ali\n",
       "Length: 47326, dtype: object"
      ]
     },
     "execution_count": 47,
     "metadata": {},
     "output_type": "execute_result"
    }
   ],
   "source": [
    "df_combined = pd.concat(\n",
    "    [X_resampled_ros_df, X_test]\n",
    ")\n",
    "df_combined"
   ]
  },
  {
   "cell_type": "code",
   "execution_count": 48,
   "id": "c8e5493f",
   "metadata": {},
   "outputs": [],
   "source": [
    "tf_idf_vectorizer_clustering = TfidfVectorizer(max_features=3000)\n",
    "tf_idf_vectorizer_clustering.fit(df_combined)\n",
    "\n",
    "clustering_ros_tf_idf = tf_idf_vectorizer_clustering.transform(df_combined)"
   ]
  },
  {
   "cell_type": "code",
   "execution_count": 49,
   "id": "0778d013",
   "metadata": {},
   "outputs": [
    {
     "data": {
      "text/html": [
       "<div>\n",
       "<style scoped>\n",
       "    .dataframe tbody tr th:only-of-type {\n",
       "        vertical-align: middle;\n",
       "    }\n",
       "\n",
       "    .dataframe tbody tr th {\n",
       "        vertical-align: top;\n",
       "    }\n",
       "\n",
       "    .dataframe thead th {\n",
       "        text-align: right;\n",
       "    }\n",
       "</style>\n",
       "<table border=\"1\" class=\"dataframe\">\n",
       "  <thead>\n",
       "    <tr style=\"text-align: right;\">\n",
       "      <th></th>\n",
       "      <th>able</th>\n",
       "      <th>ableism</th>\n",
       "      <th>abou</th>\n",
       "      <th>absolutely</th>\n",
       "      <th>abt</th>\n",
       "      <th>abuse</th>\n",
       "      <th>abusive</th>\n",
       "      <th>accept</th>\n",
       "      <th>acceptable</th>\n",
       "      <th>accepting</th>\n",
       "      <th>...</th>\n",
       "      <th>yummy</th>\n",
       "      <th>yup</th>\n",
       "      <th>yur</th>\n",
       "      <th>zero</th>\n",
       "      <th>zille</th>\n",
       "      <th>zionazi</th>\n",
       "      <th>zionazis</th>\n",
       "      <th>zionism</th>\n",
       "      <th>zionist</th>\n",
       "      <th>zuma</th>\n",
       "    </tr>\n",
       "  </thead>\n",
       "  <tbody>\n",
       "    <tr>\n",
       "      <th>0</th>\n",
       "      <td>0.0</td>\n",
       "      <td>0.0</td>\n",
       "      <td>0.0</td>\n",
       "      <td>0.0</td>\n",
       "      <td>0.0</td>\n",
       "      <td>0.0</td>\n",
       "      <td>0.0</td>\n",
       "      <td>0.0</td>\n",
       "      <td>0.0</td>\n",
       "      <td>0.0</td>\n",
       "      <td>...</td>\n",
       "      <td>0.0</td>\n",
       "      <td>0.0</td>\n",
       "      <td>0.0</td>\n",
       "      <td>0.0</td>\n",
       "      <td>0.0</td>\n",
       "      <td>0.0</td>\n",
       "      <td>0.0</td>\n",
       "      <td>0.0</td>\n",
       "      <td>0.0</td>\n",
       "      <td>0.0</td>\n",
       "    </tr>\n",
       "    <tr>\n",
       "      <th>1</th>\n",
       "      <td>0.0</td>\n",
       "      <td>0.0</td>\n",
       "      <td>0.0</td>\n",
       "      <td>0.0</td>\n",
       "      <td>0.0</td>\n",
       "      <td>0.0</td>\n",
       "      <td>0.0</td>\n",
       "      <td>0.0</td>\n",
       "      <td>0.0</td>\n",
       "      <td>0.0</td>\n",
       "      <td>...</td>\n",
       "      <td>0.0</td>\n",
       "      <td>0.0</td>\n",
       "      <td>0.0</td>\n",
       "      <td>0.0</td>\n",
       "      <td>0.0</td>\n",
       "      <td>0.0</td>\n",
       "      <td>0.0</td>\n",
       "      <td>0.0</td>\n",
       "      <td>0.0</td>\n",
       "      <td>0.0</td>\n",
       "    </tr>\n",
       "    <tr>\n",
       "      <th>2</th>\n",
       "      <td>0.0</td>\n",
       "      <td>0.0</td>\n",
       "      <td>0.0</td>\n",
       "      <td>0.0</td>\n",
       "      <td>0.0</td>\n",
       "      <td>0.0</td>\n",
       "      <td>0.0</td>\n",
       "      <td>0.0</td>\n",
       "      <td>0.0</td>\n",
       "      <td>0.0</td>\n",
       "      <td>...</td>\n",
       "      <td>0.0</td>\n",
       "      <td>0.0</td>\n",
       "      <td>0.0</td>\n",
       "      <td>0.0</td>\n",
       "      <td>0.0</td>\n",
       "      <td>0.0</td>\n",
       "      <td>0.0</td>\n",
       "      <td>0.0</td>\n",
       "      <td>0.0</td>\n",
       "      <td>0.0</td>\n",
       "    </tr>\n",
       "    <tr>\n",
       "      <th>3</th>\n",
       "      <td>0.0</td>\n",
       "      <td>0.0</td>\n",
       "      <td>0.0</td>\n",
       "      <td>0.0</td>\n",
       "      <td>0.0</td>\n",
       "      <td>0.0</td>\n",
       "      <td>0.0</td>\n",
       "      <td>0.0</td>\n",
       "      <td>0.0</td>\n",
       "      <td>0.0</td>\n",
       "      <td>...</td>\n",
       "      <td>0.0</td>\n",
       "      <td>0.0</td>\n",
       "      <td>0.0</td>\n",
       "      <td>0.0</td>\n",
       "      <td>0.0</td>\n",
       "      <td>0.0</td>\n",
       "      <td>0.0</td>\n",
       "      <td>0.0</td>\n",
       "      <td>0.0</td>\n",
       "      <td>0.0</td>\n",
       "    </tr>\n",
       "    <tr>\n",
       "      <th>4</th>\n",
       "      <td>0.0</td>\n",
       "      <td>0.0</td>\n",
       "      <td>0.0</td>\n",
       "      <td>0.0</td>\n",
       "      <td>0.0</td>\n",
       "      <td>0.0</td>\n",
       "      <td>0.0</td>\n",
       "      <td>0.0</td>\n",
       "      <td>0.0</td>\n",
       "      <td>0.0</td>\n",
       "      <td>...</td>\n",
       "      <td>0.0</td>\n",
       "      <td>0.0</td>\n",
       "      <td>0.0</td>\n",
       "      <td>0.0</td>\n",
       "      <td>0.0</td>\n",
       "      <td>0.0</td>\n",
       "      <td>0.0</td>\n",
       "      <td>0.0</td>\n",
       "      <td>0.0</td>\n",
       "      <td>0.0</td>\n",
       "    </tr>\n",
       "    <tr>\n",
       "      <th>...</th>\n",
       "      <td>...</td>\n",
       "      <td>...</td>\n",
       "      <td>...</td>\n",
       "      <td>...</td>\n",
       "      <td>...</td>\n",
       "      <td>...</td>\n",
       "      <td>...</td>\n",
       "      <td>...</td>\n",
       "      <td>...</td>\n",
       "      <td>...</td>\n",
       "      <td>...</td>\n",
       "      <td>...</td>\n",
       "      <td>...</td>\n",
       "      <td>...</td>\n",
       "      <td>...</td>\n",
       "      <td>...</td>\n",
       "      <td>...</td>\n",
       "      <td>...</td>\n",
       "      <td>...</td>\n",
       "      <td>...</td>\n",
       "      <td>...</td>\n",
       "    </tr>\n",
       "    <tr>\n",
       "      <th>47321</th>\n",
       "      <td>0.0</td>\n",
       "      <td>0.0</td>\n",
       "      <td>0.0</td>\n",
       "      <td>0.0</td>\n",
       "      <td>0.0</td>\n",
       "      <td>0.0</td>\n",
       "      <td>0.0</td>\n",
       "      <td>0.0</td>\n",
       "      <td>0.0</td>\n",
       "      <td>0.0</td>\n",
       "      <td>...</td>\n",
       "      <td>0.0</td>\n",
       "      <td>0.0</td>\n",
       "      <td>0.0</td>\n",
       "      <td>0.0</td>\n",
       "      <td>0.0</td>\n",
       "      <td>0.0</td>\n",
       "      <td>0.0</td>\n",
       "      <td>0.0</td>\n",
       "      <td>0.0</td>\n",
       "      <td>0.0</td>\n",
       "    </tr>\n",
       "    <tr>\n",
       "      <th>47322</th>\n",
       "      <td>0.0</td>\n",
       "      <td>0.0</td>\n",
       "      <td>0.0</td>\n",
       "      <td>0.0</td>\n",
       "      <td>0.0</td>\n",
       "      <td>0.0</td>\n",
       "      <td>0.0</td>\n",
       "      <td>0.0</td>\n",
       "      <td>0.0</td>\n",
       "      <td>0.0</td>\n",
       "      <td>...</td>\n",
       "      <td>0.0</td>\n",
       "      <td>0.0</td>\n",
       "      <td>0.0</td>\n",
       "      <td>0.0</td>\n",
       "      <td>0.0</td>\n",
       "      <td>0.0</td>\n",
       "      <td>0.0</td>\n",
       "      <td>0.0</td>\n",
       "      <td>0.0</td>\n",
       "      <td>0.0</td>\n",
       "    </tr>\n",
       "    <tr>\n",
       "      <th>47323</th>\n",
       "      <td>0.0</td>\n",
       "      <td>0.0</td>\n",
       "      <td>0.0</td>\n",
       "      <td>0.0</td>\n",
       "      <td>0.0</td>\n",
       "      <td>0.0</td>\n",
       "      <td>0.0</td>\n",
       "      <td>0.0</td>\n",
       "      <td>0.0</td>\n",
       "      <td>0.0</td>\n",
       "      <td>...</td>\n",
       "      <td>0.0</td>\n",
       "      <td>0.0</td>\n",
       "      <td>0.0</td>\n",
       "      <td>0.0</td>\n",
       "      <td>0.0</td>\n",
       "      <td>0.0</td>\n",
       "      <td>0.0</td>\n",
       "      <td>0.0</td>\n",
       "      <td>0.0</td>\n",
       "      <td>0.0</td>\n",
       "    </tr>\n",
       "    <tr>\n",
       "      <th>47324</th>\n",
       "      <td>0.0</td>\n",
       "      <td>0.0</td>\n",
       "      <td>0.0</td>\n",
       "      <td>0.0</td>\n",
       "      <td>0.0</td>\n",
       "      <td>0.0</td>\n",
       "      <td>0.0</td>\n",
       "      <td>0.0</td>\n",
       "      <td>0.0</td>\n",
       "      <td>0.0</td>\n",
       "      <td>...</td>\n",
       "      <td>0.0</td>\n",
       "      <td>0.0</td>\n",
       "      <td>0.0</td>\n",
       "      <td>0.0</td>\n",
       "      <td>0.0</td>\n",
       "      <td>0.0</td>\n",
       "      <td>0.0</td>\n",
       "      <td>0.0</td>\n",
       "      <td>0.0</td>\n",
       "      <td>0.0</td>\n",
       "    </tr>\n",
       "    <tr>\n",
       "      <th>47325</th>\n",
       "      <td>0.0</td>\n",
       "      <td>0.0</td>\n",
       "      <td>0.0</td>\n",
       "      <td>0.0</td>\n",
       "      <td>0.0</td>\n",
       "      <td>0.0</td>\n",
       "      <td>0.0</td>\n",
       "      <td>0.0</td>\n",
       "      <td>0.0</td>\n",
       "      <td>0.0</td>\n",
       "      <td>...</td>\n",
       "      <td>0.0</td>\n",
       "      <td>0.0</td>\n",
       "      <td>0.0</td>\n",
       "      <td>0.0</td>\n",
       "      <td>0.0</td>\n",
       "      <td>0.0</td>\n",
       "      <td>0.0</td>\n",
       "      <td>0.0</td>\n",
       "      <td>0.0</td>\n",
       "      <td>0.0</td>\n",
       "    </tr>\n",
       "  </tbody>\n",
       "</table>\n",
       "<p>47326 rows × 3000 columns</p>\n",
       "</div>"
      ],
      "text/plain": [
       "       able  ableism  abou  absolutely  abt  abuse  abusive  accept  \\\n",
       "0       0.0      0.0   0.0         0.0  0.0    0.0      0.0     0.0   \n",
       "1       0.0      0.0   0.0         0.0  0.0    0.0      0.0     0.0   \n",
       "2       0.0      0.0   0.0         0.0  0.0    0.0      0.0     0.0   \n",
       "3       0.0      0.0   0.0         0.0  0.0    0.0      0.0     0.0   \n",
       "4       0.0      0.0   0.0         0.0  0.0    0.0      0.0     0.0   \n",
       "...     ...      ...   ...         ...  ...    ...      ...     ...   \n",
       "47321   0.0      0.0   0.0         0.0  0.0    0.0      0.0     0.0   \n",
       "47322   0.0      0.0   0.0         0.0  0.0    0.0      0.0     0.0   \n",
       "47323   0.0      0.0   0.0         0.0  0.0    0.0      0.0     0.0   \n",
       "47324   0.0      0.0   0.0         0.0  0.0    0.0      0.0     0.0   \n",
       "47325   0.0      0.0   0.0         0.0  0.0    0.0      0.0     0.0   \n",
       "\n",
       "       acceptable  accepting  ...  yummy  yup  yur  zero  zille  zionazi  \\\n",
       "0             0.0        0.0  ...    0.0  0.0  0.0   0.0    0.0      0.0   \n",
       "1             0.0        0.0  ...    0.0  0.0  0.0   0.0    0.0      0.0   \n",
       "2             0.0        0.0  ...    0.0  0.0  0.0   0.0    0.0      0.0   \n",
       "3             0.0        0.0  ...    0.0  0.0  0.0   0.0    0.0      0.0   \n",
       "4             0.0        0.0  ...    0.0  0.0  0.0   0.0    0.0      0.0   \n",
       "...           ...        ...  ...    ...  ...  ...   ...    ...      ...   \n",
       "47321         0.0        0.0  ...    0.0  0.0  0.0   0.0    0.0      0.0   \n",
       "47322         0.0        0.0  ...    0.0  0.0  0.0   0.0    0.0      0.0   \n",
       "47323         0.0        0.0  ...    0.0  0.0  0.0   0.0    0.0      0.0   \n",
       "47324         0.0        0.0  ...    0.0  0.0  0.0   0.0    0.0      0.0   \n",
       "47325         0.0        0.0  ...    0.0  0.0  0.0   0.0    0.0      0.0   \n",
       "\n",
       "       zionazis  zionism  zionist  zuma  \n",
       "0           0.0      0.0      0.0   0.0  \n",
       "1           0.0      0.0      0.0   0.0  \n",
       "2           0.0      0.0      0.0   0.0  \n",
       "3           0.0      0.0      0.0   0.0  \n",
       "4           0.0      0.0      0.0   0.0  \n",
       "...         ...      ...      ...   ...  \n",
       "47321       0.0      0.0      0.0   0.0  \n",
       "47322       0.0      0.0      0.0   0.0  \n",
       "47323       0.0      0.0      0.0   0.0  \n",
       "47324       0.0      0.0      0.0   0.0  \n",
       "47325       0.0      0.0      0.0   0.0  \n",
       "\n",
       "[47326 rows x 3000 columns]"
      ]
     },
     "execution_count": 49,
     "metadata": {},
     "output_type": "execute_result"
    }
   ],
   "source": [
    "tf_idf_ros_df = pd.DataFrame(\n",
    "    clustering_ros_tf_idf.toarray(), \n",
    "    columns=tf_idf_vectorizer_clustering.get_feature_names_out()\n",
    ")\n",
    "\n",
    "tf_idf_ros_df"
   ]
  },
  {
   "cell_type": "code",
   "execution_count": 88,
   "id": "d129c61f",
   "metadata": {},
   "outputs": [],
   "source": [
    "tf_idf_ros_df.to_csv('dataset/clustering/clustering.csv', index=False)"
   ]
  },
  {
   "cell_type": "markdown",
   "id": "9b96bb08",
   "metadata": {},
   "source": [
    "## Cuvamo novi set podataka za potrebe pravila pridruzivanja"
   ]
  },
  {
   "cell_type": "code",
   "execution_count": 68,
   "id": "0fc7d8de",
   "metadata": {},
   "outputs": [
    {
     "data": {
      "text/plain": [
       "22001                        wait stage look awesome see pm cmafest drinkingwithdolly flockon\n",
       "18793    bbc news orlando gay nightclub shooting killed suspect omar mateen love love get smh\n",
       "14980                                                                          friend netflix\n",
       "10457                                        ceain area yeah seen video seeing little kid cry\n",
       "29761                                thnx pilot nick amazing experience grandcanyon afternoon\n",
       "                                                 ...                                         \n",
       "19554                                                     downtime lunchtime unique inclusive\n",
       "15531                                                               going mexico day vacation\n",
       "240                                                sanjapan animeconvention see guy september\n",
       "24219              washtimes anybody dropped ball gop passing law keep gun mateens crazy hand\n",
       "31490                  good news job interview thursday excited mean sta internship next year\n",
       "Name: tweet_cleaned, Length: 20645, dtype: object"
      ]
     },
     "execution_count": 68,
     "metadata": {},
     "output_type": "execute_result"
    }
   ],
   "source": [
    "association_rules_data = X_train.copy()\n",
    "association_rules_data"
   ]
  },
  {
   "cell_type": "code",
   "execution_count": 70,
   "id": "f4b02598",
   "metadata": {},
   "outputs": [],
   "source": [
    "vectorizer_association_rules = TfidfVectorizer(max_features=3000)\n",
    "vectorizer_association_rules.fit(association_rules_data)\n",
    "\n",
    "vectorizer_association_rules_t = tf_idf_vectorizer_clustering.transform(association_rules_data)"
   ]
  },
  {
   "cell_type": "code",
   "execution_count": 82,
   "id": "0fe19351",
   "metadata": {},
   "outputs": [
    {
     "data": {
      "text/html": [
       "<div>\n",
       "<style scoped>\n",
       "    .dataframe tbody tr th:only-of-type {\n",
       "        vertical-align: middle;\n",
       "    }\n",
       "\n",
       "    .dataframe tbody tr th {\n",
       "        vertical-align: top;\n",
       "    }\n",
       "\n",
       "    .dataframe thead th {\n",
       "        text-align: right;\n",
       "    }\n",
       "</style>\n",
       "<table border=\"1\" class=\"dataframe\">\n",
       "  <thead>\n",
       "    <tr style=\"text-align: right;\">\n",
       "      <th></th>\n",
       "      <th>aap</th>\n",
       "      <th>able</th>\n",
       "      <th>absolutely</th>\n",
       "      <th>abt</th>\n",
       "      <th>abuse</th>\n",
       "      <th>accept</th>\n",
       "      <th>acceptable</th>\n",
       "      <th>accepted</th>\n",
       "      <th>access</th>\n",
       "      <th>accessory</th>\n",
       "      <th>...</th>\n",
       "      <th>young</th>\n",
       "      <th>youth</th>\n",
       "      <th>youtube</th>\n",
       "      <th>youtuber</th>\n",
       "      <th>yoy</th>\n",
       "      <th>yr</th>\n",
       "      <th>yum</th>\n",
       "      <th>yummy</th>\n",
       "      <th>zelda</th>\n",
       "      <th>zen</th>\n",
       "    </tr>\n",
       "  </thead>\n",
       "  <tbody>\n",
       "    <tr>\n",
       "      <th>0</th>\n",
       "      <td>0</td>\n",
       "      <td>0</td>\n",
       "      <td>0</td>\n",
       "      <td>0</td>\n",
       "      <td>0</td>\n",
       "      <td>0</td>\n",
       "      <td>0</td>\n",
       "      <td>0</td>\n",
       "      <td>0</td>\n",
       "      <td>0</td>\n",
       "      <td>...</td>\n",
       "      <td>0</td>\n",
       "      <td>0</td>\n",
       "      <td>0</td>\n",
       "      <td>0</td>\n",
       "      <td>0</td>\n",
       "      <td>0</td>\n",
       "      <td>0</td>\n",
       "      <td>0</td>\n",
       "      <td>0</td>\n",
       "      <td>0</td>\n",
       "    </tr>\n",
       "    <tr>\n",
       "      <th>1</th>\n",
       "      <td>0</td>\n",
       "      <td>0</td>\n",
       "      <td>0</td>\n",
       "      <td>0</td>\n",
       "      <td>0</td>\n",
       "      <td>0</td>\n",
       "      <td>0</td>\n",
       "      <td>0</td>\n",
       "      <td>0</td>\n",
       "      <td>0</td>\n",
       "      <td>...</td>\n",
       "      <td>0</td>\n",
       "      <td>0</td>\n",
       "      <td>0</td>\n",
       "      <td>0</td>\n",
       "      <td>0</td>\n",
       "      <td>0</td>\n",
       "      <td>0</td>\n",
       "      <td>0</td>\n",
       "      <td>0</td>\n",
       "      <td>0</td>\n",
       "    </tr>\n",
       "    <tr>\n",
       "      <th>2</th>\n",
       "      <td>0</td>\n",
       "      <td>0</td>\n",
       "      <td>0</td>\n",
       "      <td>0</td>\n",
       "      <td>0</td>\n",
       "      <td>0</td>\n",
       "      <td>0</td>\n",
       "      <td>0</td>\n",
       "      <td>0</td>\n",
       "      <td>0</td>\n",
       "      <td>...</td>\n",
       "      <td>0</td>\n",
       "      <td>0</td>\n",
       "      <td>0</td>\n",
       "      <td>0</td>\n",
       "      <td>0</td>\n",
       "      <td>0</td>\n",
       "      <td>0</td>\n",
       "      <td>0</td>\n",
       "      <td>0</td>\n",
       "      <td>0</td>\n",
       "    </tr>\n",
       "    <tr>\n",
       "      <th>3</th>\n",
       "      <td>0</td>\n",
       "      <td>0</td>\n",
       "      <td>0</td>\n",
       "      <td>0</td>\n",
       "      <td>0</td>\n",
       "      <td>0</td>\n",
       "      <td>0</td>\n",
       "      <td>0</td>\n",
       "      <td>0</td>\n",
       "      <td>0</td>\n",
       "      <td>...</td>\n",
       "      <td>0</td>\n",
       "      <td>0</td>\n",
       "      <td>0</td>\n",
       "      <td>0</td>\n",
       "      <td>0</td>\n",
       "      <td>0</td>\n",
       "      <td>0</td>\n",
       "      <td>0</td>\n",
       "      <td>0</td>\n",
       "      <td>0</td>\n",
       "    </tr>\n",
       "    <tr>\n",
       "      <th>4</th>\n",
       "      <td>0</td>\n",
       "      <td>0</td>\n",
       "      <td>0</td>\n",
       "      <td>0</td>\n",
       "      <td>0</td>\n",
       "      <td>0</td>\n",
       "      <td>0</td>\n",
       "      <td>0</td>\n",
       "      <td>0</td>\n",
       "      <td>0</td>\n",
       "      <td>...</td>\n",
       "      <td>0</td>\n",
       "      <td>0</td>\n",
       "      <td>0</td>\n",
       "      <td>0</td>\n",
       "      <td>0</td>\n",
       "      <td>0</td>\n",
       "      <td>0</td>\n",
       "      <td>0</td>\n",
       "      <td>0</td>\n",
       "      <td>0</td>\n",
       "    </tr>\n",
       "    <tr>\n",
       "      <th>...</th>\n",
       "      <td>...</td>\n",
       "      <td>...</td>\n",
       "      <td>...</td>\n",
       "      <td>...</td>\n",
       "      <td>...</td>\n",
       "      <td>...</td>\n",
       "      <td>...</td>\n",
       "      <td>...</td>\n",
       "      <td>...</td>\n",
       "      <td>...</td>\n",
       "      <td>...</td>\n",
       "      <td>...</td>\n",
       "      <td>...</td>\n",
       "      <td>...</td>\n",
       "      <td>...</td>\n",
       "      <td>...</td>\n",
       "      <td>...</td>\n",
       "      <td>...</td>\n",
       "      <td>...</td>\n",
       "      <td>...</td>\n",
       "      <td>...</td>\n",
       "    </tr>\n",
       "    <tr>\n",
       "      <th>20640</th>\n",
       "      <td>0</td>\n",
       "      <td>0</td>\n",
       "      <td>0</td>\n",
       "      <td>0</td>\n",
       "      <td>0</td>\n",
       "      <td>0</td>\n",
       "      <td>0</td>\n",
       "      <td>0</td>\n",
       "      <td>0</td>\n",
       "      <td>0</td>\n",
       "      <td>...</td>\n",
       "      <td>0</td>\n",
       "      <td>0</td>\n",
       "      <td>0</td>\n",
       "      <td>0</td>\n",
       "      <td>0</td>\n",
       "      <td>0</td>\n",
       "      <td>0</td>\n",
       "      <td>0</td>\n",
       "      <td>0</td>\n",
       "      <td>0</td>\n",
       "    </tr>\n",
       "    <tr>\n",
       "      <th>20641</th>\n",
       "      <td>0</td>\n",
       "      <td>0</td>\n",
       "      <td>0</td>\n",
       "      <td>0</td>\n",
       "      <td>0</td>\n",
       "      <td>0</td>\n",
       "      <td>0</td>\n",
       "      <td>0</td>\n",
       "      <td>0</td>\n",
       "      <td>0</td>\n",
       "      <td>...</td>\n",
       "      <td>0</td>\n",
       "      <td>0</td>\n",
       "      <td>0</td>\n",
       "      <td>0</td>\n",
       "      <td>0</td>\n",
       "      <td>0</td>\n",
       "      <td>0</td>\n",
       "      <td>0</td>\n",
       "      <td>0</td>\n",
       "      <td>0</td>\n",
       "    </tr>\n",
       "    <tr>\n",
       "      <th>20642</th>\n",
       "      <td>0</td>\n",
       "      <td>0</td>\n",
       "      <td>0</td>\n",
       "      <td>0</td>\n",
       "      <td>0</td>\n",
       "      <td>0</td>\n",
       "      <td>0</td>\n",
       "      <td>0</td>\n",
       "      <td>0</td>\n",
       "      <td>0</td>\n",
       "      <td>...</td>\n",
       "      <td>0</td>\n",
       "      <td>0</td>\n",
       "      <td>0</td>\n",
       "      <td>0</td>\n",
       "      <td>0</td>\n",
       "      <td>0</td>\n",
       "      <td>0</td>\n",
       "      <td>0</td>\n",
       "      <td>0</td>\n",
       "      <td>0</td>\n",
       "    </tr>\n",
       "    <tr>\n",
       "      <th>20643</th>\n",
       "      <td>0</td>\n",
       "      <td>0</td>\n",
       "      <td>0</td>\n",
       "      <td>0</td>\n",
       "      <td>0</td>\n",
       "      <td>0</td>\n",
       "      <td>0</td>\n",
       "      <td>0</td>\n",
       "      <td>0</td>\n",
       "      <td>0</td>\n",
       "      <td>...</td>\n",
       "      <td>0</td>\n",
       "      <td>0</td>\n",
       "      <td>0</td>\n",
       "      <td>0</td>\n",
       "      <td>0</td>\n",
       "      <td>0</td>\n",
       "      <td>0</td>\n",
       "      <td>0</td>\n",
       "      <td>0</td>\n",
       "      <td>0</td>\n",
       "    </tr>\n",
       "    <tr>\n",
       "      <th>20644</th>\n",
       "      <td>0</td>\n",
       "      <td>0</td>\n",
       "      <td>0</td>\n",
       "      <td>0</td>\n",
       "      <td>0</td>\n",
       "      <td>0</td>\n",
       "      <td>0</td>\n",
       "      <td>0</td>\n",
       "      <td>0</td>\n",
       "      <td>0</td>\n",
       "      <td>...</td>\n",
       "      <td>0</td>\n",
       "      <td>0</td>\n",
       "      <td>0</td>\n",
       "      <td>0</td>\n",
       "      <td>0</td>\n",
       "      <td>0</td>\n",
       "      <td>0</td>\n",
       "      <td>0</td>\n",
       "      <td>0</td>\n",
       "      <td>0</td>\n",
       "    </tr>\n",
       "  </tbody>\n",
       "</table>\n",
       "<p>20645 rows × 3000 columns</p>\n",
       "</div>"
      ],
      "text/plain": [
       "       aap  able  absolutely  abt  abuse  accept  acceptable  accepted  \\\n",
       "0        0     0           0    0      0       0           0         0   \n",
       "1        0     0           0    0      0       0           0         0   \n",
       "2        0     0           0    0      0       0           0         0   \n",
       "3        0     0           0    0      0       0           0         0   \n",
       "4        0     0           0    0      0       0           0         0   \n",
       "...    ...   ...         ...  ...    ...     ...         ...       ...   \n",
       "20640    0     0           0    0      0       0           0         0   \n",
       "20641    0     0           0    0      0       0           0         0   \n",
       "20642    0     0           0    0      0       0           0         0   \n",
       "20643    0     0           0    0      0       0           0         0   \n",
       "20644    0     0           0    0      0       0           0         0   \n",
       "\n",
       "       access  accessory  ...  young  youth  youtube  youtuber  yoy  yr  yum  \\\n",
       "0           0          0  ...      0      0        0         0    0   0    0   \n",
       "1           0          0  ...      0      0        0         0    0   0    0   \n",
       "2           0          0  ...      0      0        0         0    0   0    0   \n",
       "3           0          0  ...      0      0        0         0    0   0    0   \n",
       "4           0          0  ...      0      0        0         0    0   0    0   \n",
       "...       ...        ...  ...    ...    ...      ...       ...  ...  ..  ...   \n",
       "20640       0          0  ...      0      0        0         0    0   0    0   \n",
       "20641       0          0  ...      0      0        0         0    0   0    0   \n",
       "20642       0          0  ...      0      0        0         0    0   0    0   \n",
       "20643       0          0  ...      0      0        0         0    0   0    0   \n",
       "20644       0          0  ...      0      0        0         0    0   0    0   \n",
       "\n",
       "       yummy  zelda  zen  \n",
       "0          0      0    0  \n",
       "1          0      0    0  \n",
       "2          0      0    0  \n",
       "3          0      0    0  \n",
       "4          0      0    0  \n",
       "...      ...    ...  ...  \n",
       "20640      0      0    0  \n",
       "20641      0      0    0  \n",
       "20642      0      0    0  \n",
       "20643      0      0    0  \n",
       "20644      0      0    0  \n",
       "\n",
       "[20645 rows x 3000 columns]"
      ]
     },
     "execution_count": 82,
     "metadata": {},
     "output_type": "execute_result"
    }
   ],
   "source": [
    "matrix = np.where(vectorizer_association_rules_t.toarray() > 0, 1, 0)\n",
    "association_rules_df = pd.DataFrame(\n",
    "    matrix, \n",
    "    columns=vectorizer_association_rules.get_feature_names_out()\n",
    ")\n",
    "\n",
    "association_rules_df"
   ]
  },
  {
   "cell_type": "code",
   "execution_count": 83,
   "id": "5c1478a9",
   "metadata": {},
   "outputs": [
    {
     "data": {
      "text/html": [
       "<div>\n",
       "<style scoped>\n",
       "    .dataframe tbody tr th:only-of-type {\n",
       "        vertical-align: middle;\n",
       "    }\n",
       "\n",
       "    .dataframe tbody tr th {\n",
       "        vertical-align: top;\n",
       "    }\n",
       "\n",
       "    .dataframe thead th {\n",
       "        text-align: right;\n",
       "    }\n",
       "</style>\n",
       "<table border=\"1\" class=\"dataframe\">\n",
       "  <thead>\n",
       "    <tr style=\"text-align: right;\">\n",
       "      <th></th>\n",
       "      <th>aap</th>\n",
       "      <th>able</th>\n",
       "      <th>absolutely</th>\n",
       "      <th>abt</th>\n",
       "      <th>abuse</th>\n",
       "      <th>accept</th>\n",
       "      <th>acceptable</th>\n",
       "      <th>accepted</th>\n",
       "      <th>access</th>\n",
       "      <th>accessory</th>\n",
       "      <th>...</th>\n",
       "      <th>youth</th>\n",
       "      <th>youtube</th>\n",
       "      <th>youtuber</th>\n",
       "      <th>yoy</th>\n",
       "      <th>yr</th>\n",
       "      <th>yum</th>\n",
       "      <th>yummy</th>\n",
       "      <th>zelda</th>\n",
       "      <th>zen</th>\n",
       "      <th>label</th>\n",
       "    </tr>\n",
       "  </thead>\n",
       "  <tbody>\n",
       "    <tr>\n",
       "      <th>0</th>\n",
       "      <td>0</td>\n",
       "      <td>0</td>\n",
       "      <td>0</td>\n",
       "      <td>0</td>\n",
       "      <td>0</td>\n",
       "      <td>0</td>\n",
       "      <td>0</td>\n",
       "      <td>0</td>\n",
       "      <td>0</td>\n",
       "      <td>0</td>\n",
       "      <td>...</td>\n",
       "      <td>0</td>\n",
       "      <td>0</td>\n",
       "      <td>0</td>\n",
       "      <td>0</td>\n",
       "      <td>0</td>\n",
       "      <td>0</td>\n",
       "      <td>0</td>\n",
       "      <td>0</td>\n",
       "      <td>0</td>\n",
       "      <td>0</td>\n",
       "    </tr>\n",
       "    <tr>\n",
       "      <th>1</th>\n",
       "      <td>0</td>\n",
       "      <td>0</td>\n",
       "      <td>0</td>\n",
       "      <td>0</td>\n",
       "      <td>0</td>\n",
       "      <td>0</td>\n",
       "      <td>0</td>\n",
       "      <td>0</td>\n",
       "      <td>0</td>\n",
       "      <td>0</td>\n",
       "      <td>...</td>\n",
       "      <td>0</td>\n",
       "      <td>0</td>\n",
       "      <td>0</td>\n",
       "      <td>0</td>\n",
       "      <td>0</td>\n",
       "      <td>0</td>\n",
       "      <td>0</td>\n",
       "      <td>0</td>\n",
       "      <td>0</td>\n",
       "      <td>0</td>\n",
       "    </tr>\n",
       "    <tr>\n",
       "      <th>2</th>\n",
       "      <td>0</td>\n",
       "      <td>0</td>\n",
       "      <td>0</td>\n",
       "      <td>0</td>\n",
       "      <td>0</td>\n",
       "      <td>0</td>\n",
       "      <td>0</td>\n",
       "      <td>0</td>\n",
       "      <td>0</td>\n",
       "      <td>0</td>\n",
       "      <td>...</td>\n",
       "      <td>0</td>\n",
       "      <td>0</td>\n",
       "      <td>0</td>\n",
       "      <td>0</td>\n",
       "      <td>0</td>\n",
       "      <td>0</td>\n",
       "      <td>0</td>\n",
       "      <td>0</td>\n",
       "      <td>0</td>\n",
       "      <td>0</td>\n",
       "    </tr>\n",
       "    <tr>\n",
       "      <th>3</th>\n",
       "      <td>0</td>\n",
       "      <td>0</td>\n",
       "      <td>0</td>\n",
       "      <td>0</td>\n",
       "      <td>0</td>\n",
       "      <td>0</td>\n",
       "      <td>0</td>\n",
       "      <td>0</td>\n",
       "      <td>0</td>\n",
       "      <td>0</td>\n",
       "      <td>...</td>\n",
       "      <td>0</td>\n",
       "      <td>0</td>\n",
       "      <td>0</td>\n",
       "      <td>0</td>\n",
       "      <td>0</td>\n",
       "      <td>0</td>\n",
       "      <td>0</td>\n",
       "      <td>0</td>\n",
       "      <td>0</td>\n",
       "      <td>0</td>\n",
       "    </tr>\n",
       "    <tr>\n",
       "      <th>4</th>\n",
       "      <td>0</td>\n",
       "      <td>0</td>\n",
       "      <td>0</td>\n",
       "      <td>0</td>\n",
       "      <td>0</td>\n",
       "      <td>0</td>\n",
       "      <td>0</td>\n",
       "      <td>0</td>\n",
       "      <td>0</td>\n",
       "      <td>0</td>\n",
       "      <td>...</td>\n",
       "      <td>0</td>\n",
       "      <td>0</td>\n",
       "      <td>0</td>\n",
       "      <td>0</td>\n",
       "      <td>0</td>\n",
       "      <td>0</td>\n",
       "      <td>0</td>\n",
       "      <td>0</td>\n",
       "      <td>0</td>\n",
       "      <td>0</td>\n",
       "    </tr>\n",
       "    <tr>\n",
       "      <th>...</th>\n",
       "      <td>...</td>\n",
       "      <td>...</td>\n",
       "      <td>...</td>\n",
       "      <td>...</td>\n",
       "      <td>...</td>\n",
       "      <td>...</td>\n",
       "      <td>...</td>\n",
       "      <td>...</td>\n",
       "      <td>...</td>\n",
       "      <td>...</td>\n",
       "      <td>...</td>\n",
       "      <td>...</td>\n",
       "      <td>...</td>\n",
       "      <td>...</td>\n",
       "      <td>...</td>\n",
       "      <td>...</td>\n",
       "      <td>...</td>\n",
       "      <td>...</td>\n",
       "      <td>...</td>\n",
       "      <td>...</td>\n",
       "      <td>...</td>\n",
       "    </tr>\n",
       "    <tr>\n",
       "      <th>20640</th>\n",
       "      <td>0</td>\n",
       "      <td>0</td>\n",
       "      <td>0</td>\n",
       "      <td>0</td>\n",
       "      <td>0</td>\n",
       "      <td>0</td>\n",
       "      <td>0</td>\n",
       "      <td>0</td>\n",
       "      <td>0</td>\n",
       "      <td>0</td>\n",
       "      <td>...</td>\n",
       "      <td>0</td>\n",
       "      <td>0</td>\n",
       "      <td>0</td>\n",
       "      <td>0</td>\n",
       "      <td>0</td>\n",
       "      <td>0</td>\n",
       "      <td>0</td>\n",
       "      <td>0</td>\n",
       "      <td>0</td>\n",
       "      <td>0</td>\n",
       "    </tr>\n",
       "    <tr>\n",
       "      <th>20641</th>\n",
       "      <td>0</td>\n",
       "      <td>0</td>\n",
       "      <td>0</td>\n",
       "      <td>0</td>\n",
       "      <td>0</td>\n",
       "      <td>0</td>\n",
       "      <td>0</td>\n",
       "      <td>0</td>\n",
       "      <td>0</td>\n",
       "      <td>0</td>\n",
       "      <td>...</td>\n",
       "      <td>0</td>\n",
       "      <td>0</td>\n",
       "      <td>0</td>\n",
       "      <td>0</td>\n",
       "      <td>0</td>\n",
       "      <td>0</td>\n",
       "      <td>0</td>\n",
       "      <td>0</td>\n",
       "      <td>0</td>\n",
       "      <td>0</td>\n",
       "    </tr>\n",
       "    <tr>\n",
       "      <th>20642</th>\n",
       "      <td>0</td>\n",
       "      <td>0</td>\n",
       "      <td>0</td>\n",
       "      <td>0</td>\n",
       "      <td>0</td>\n",
       "      <td>0</td>\n",
       "      <td>0</td>\n",
       "      <td>0</td>\n",
       "      <td>0</td>\n",
       "      <td>0</td>\n",
       "      <td>...</td>\n",
       "      <td>0</td>\n",
       "      <td>0</td>\n",
       "      <td>0</td>\n",
       "      <td>0</td>\n",
       "      <td>0</td>\n",
       "      <td>0</td>\n",
       "      <td>0</td>\n",
       "      <td>0</td>\n",
       "      <td>0</td>\n",
       "      <td>0</td>\n",
       "    </tr>\n",
       "    <tr>\n",
       "      <th>20643</th>\n",
       "      <td>0</td>\n",
       "      <td>0</td>\n",
       "      <td>0</td>\n",
       "      <td>0</td>\n",
       "      <td>0</td>\n",
       "      <td>0</td>\n",
       "      <td>0</td>\n",
       "      <td>0</td>\n",
       "      <td>0</td>\n",
       "      <td>0</td>\n",
       "      <td>...</td>\n",
       "      <td>0</td>\n",
       "      <td>0</td>\n",
       "      <td>0</td>\n",
       "      <td>0</td>\n",
       "      <td>0</td>\n",
       "      <td>0</td>\n",
       "      <td>0</td>\n",
       "      <td>0</td>\n",
       "      <td>0</td>\n",
       "      <td>0</td>\n",
       "    </tr>\n",
       "    <tr>\n",
       "      <th>20644</th>\n",
       "      <td>0</td>\n",
       "      <td>0</td>\n",
       "      <td>0</td>\n",
       "      <td>0</td>\n",
       "      <td>0</td>\n",
       "      <td>0</td>\n",
       "      <td>0</td>\n",
       "      <td>0</td>\n",
       "      <td>0</td>\n",
       "      <td>0</td>\n",
       "      <td>...</td>\n",
       "      <td>0</td>\n",
       "      <td>0</td>\n",
       "      <td>0</td>\n",
       "      <td>0</td>\n",
       "      <td>0</td>\n",
       "      <td>0</td>\n",
       "      <td>0</td>\n",
       "      <td>0</td>\n",
       "      <td>0</td>\n",
       "      <td>0</td>\n",
       "    </tr>\n",
       "  </tbody>\n",
       "</table>\n",
       "<p>20645 rows × 3001 columns</p>\n",
       "</div>"
      ],
      "text/plain": [
       "       aap  able  absolutely  abt  abuse  accept  acceptable  accepted  \\\n",
       "0        0     0           0    0      0       0           0         0   \n",
       "1        0     0           0    0      0       0           0         0   \n",
       "2        0     0           0    0      0       0           0         0   \n",
       "3        0     0           0    0      0       0           0         0   \n",
       "4        0     0           0    0      0       0           0         0   \n",
       "...    ...   ...         ...  ...    ...     ...         ...       ...   \n",
       "20640    0     0           0    0      0       0           0         0   \n",
       "20641    0     0           0    0      0       0           0         0   \n",
       "20642    0     0           0    0      0       0           0         0   \n",
       "20643    0     0           0    0      0       0           0         0   \n",
       "20644    0     0           0    0      0       0           0         0   \n",
       "\n",
       "       access  accessory  ...  youth  youtube  youtuber  yoy  yr  yum  yummy  \\\n",
       "0           0          0  ...      0        0         0    0   0    0      0   \n",
       "1           0          0  ...      0        0         0    0   0    0      0   \n",
       "2           0          0  ...      0        0         0    0   0    0      0   \n",
       "3           0          0  ...      0        0         0    0   0    0      0   \n",
       "4           0          0  ...      0        0         0    0   0    0      0   \n",
       "...       ...        ...  ...    ...      ...       ...  ...  ..  ...    ...   \n",
       "20640       0          0  ...      0        0         0    0   0    0      0   \n",
       "20641       0          0  ...      0        0         0    0   0    0      0   \n",
       "20642       0          0  ...      0        0         0    0   0    0      0   \n",
       "20643       0          0  ...      0        0         0    0   0    0      0   \n",
       "20644       0          0  ...      0        0         0    0   0    0      0   \n",
       "\n",
       "       zelda  zen  label  \n",
       "0          0    0      0  \n",
       "1          0    0      0  \n",
       "2          0    0      0  \n",
       "3          0    0      0  \n",
       "4          0    0      0  \n",
       "...      ...  ...    ...  \n",
       "20640      0    0      0  \n",
       "20641      0    0      0  \n",
       "20642      0    0      0  \n",
       "20643      0    0      0  \n",
       "20644      0    0      0  \n",
       "\n",
       "[20645 rows x 3001 columns]"
      ]
     },
     "execution_count": 83,
     "metadata": {},
     "output_type": "execute_result"
    }
   ],
   "source": [
    "association_rules_Y = Y_train.copy()\n",
    "association_rules_Y.index = range(0, association_rules_Y.shape[0])\n",
    "\n",
    "association_rules_df['label'] = association_rules_Y\n",
    "association_rules_df"
   ]
  },
  {
   "cell_type": "code",
   "execution_count": 89,
   "id": "421bf500",
   "metadata": {},
   "outputs": [
    {
     "name": "stderr",
     "output_type": "stream",
     "text": [
      "/tmp/ipykernel_11727/1749358847.py:2: SettingWithCopyWarning: \n",
      "A value is trying to be set on a copy of a slice from a DataFrame\n",
      "\n",
      "See the caveats in the documentation: https://pandas.pydata.org/pandas-docs/stable/user_guide/indexing.html#returning-a-view-versus-a-copy\n",
      "  association_rules_non_hatred.drop('label', axis=1, inplace=True)\n"
     ]
    },
    {
     "data": {
      "text/html": [
       "<div>\n",
       "<style scoped>\n",
       "    .dataframe tbody tr th:only-of-type {\n",
       "        vertical-align: middle;\n",
       "    }\n",
       "\n",
       "    .dataframe tbody tr th {\n",
       "        vertical-align: top;\n",
       "    }\n",
       "\n",
       "    .dataframe thead th {\n",
       "        text-align: right;\n",
       "    }\n",
       "</style>\n",
       "<table border=\"1\" class=\"dataframe\">\n",
       "  <thead>\n",
       "    <tr style=\"text-align: right;\">\n",
       "      <th></th>\n",
       "      <th>aap</th>\n",
       "      <th>able</th>\n",
       "      <th>absolutely</th>\n",
       "      <th>abt</th>\n",
       "      <th>abuse</th>\n",
       "      <th>accept</th>\n",
       "      <th>acceptable</th>\n",
       "      <th>accepted</th>\n",
       "      <th>access</th>\n",
       "      <th>accessory</th>\n",
       "      <th>...</th>\n",
       "      <th>young</th>\n",
       "      <th>youth</th>\n",
       "      <th>youtube</th>\n",
       "      <th>youtuber</th>\n",
       "      <th>yoy</th>\n",
       "      <th>yr</th>\n",
       "      <th>yum</th>\n",
       "      <th>yummy</th>\n",
       "      <th>zelda</th>\n",
       "      <th>zen</th>\n",
       "    </tr>\n",
       "  </thead>\n",
       "  <tbody>\n",
       "    <tr>\n",
       "      <th>0</th>\n",
       "      <td>0</td>\n",
       "      <td>0</td>\n",
       "      <td>0</td>\n",
       "      <td>0</td>\n",
       "      <td>0</td>\n",
       "      <td>0</td>\n",
       "      <td>0</td>\n",
       "      <td>0</td>\n",
       "      <td>0</td>\n",
       "      <td>0</td>\n",
       "      <td>...</td>\n",
       "      <td>0</td>\n",
       "      <td>0</td>\n",
       "      <td>0</td>\n",
       "      <td>0</td>\n",
       "      <td>0</td>\n",
       "      <td>0</td>\n",
       "      <td>0</td>\n",
       "      <td>0</td>\n",
       "      <td>0</td>\n",
       "      <td>0</td>\n",
       "    </tr>\n",
       "    <tr>\n",
       "      <th>1</th>\n",
       "      <td>0</td>\n",
       "      <td>0</td>\n",
       "      <td>0</td>\n",
       "      <td>0</td>\n",
       "      <td>0</td>\n",
       "      <td>0</td>\n",
       "      <td>0</td>\n",
       "      <td>0</td>\n",
       "      <td>0</td>\n",
       "      <td>0</td>\n",
       "      <td>...</td>\n",
       "      <td>0</td>\n",
       "      <td>0</td>\n",
       "      <td>0</td>\n",
       "      <td>0</td>\n",
       "      <td>0</td>\n",
       "      <td>0</td>\n",
       "      <td>0</td>\n",
       "      <td>0</td>\n",
       "      <td>0</td>\n",
       "      <td>0</td>\n",
       "    </tr>\n",
       "    <tr>\n",
       "      <th>2</th>\n",
       "      <td>0</td>\n",
       "      <td>0</td>\n",
       "      <td>0</td>\n",
       "      <td>0</td>\n",
       "      <td>0</td>\n",
       "      <td>0</td>\n",
       "      <td>0</td>\n",
       "      <td>0</td>\n",
       "      <td>0</td>\n",
       "      <td>0</td>\n",
       "      <td>...</td>\n",
       "      <td>0</td>\n",
       "      <td>0</td>\n",
       "      <td>0</td>\n",
       "      <td>0</td>\n",
       "      <td>0</td>\n",
       "      <td>0</td>\n",
       "      <td>0</td>\n",
       "      <td>0</td>\n",
       "      <td>0</td>\n",
       "      <td>0</td>\n",
       "    </tr>\n",
       "    <tr>\n",
       "      <th>3</th>\n",
       "      <td>0</td>\n",
       "      <td>0</td>\n",
       "      <td>0</td>\n",
       "      <td>0</td>\n",
       "      <td>0</td>\n",
       "      <td>0</td>\n",
       "      <td>0</td>\n",
       "      <td>0</td>\n",
       "      <td>0</td>\n",
       "      <td>0</td>\n",
       "      <td>...</td>\n",
       "      <td>0</td>\n",
       "      <td>0</td>\n",
       "      <td>0</td>\n",
       "      <td>0</td>\n",
       "      <td>0</td>\n",
       "      <td>0</td>\n",
       "      <td>0</td>\n",
       "      <td>0</td>\n",
       "      <td>0</td>\n",
       "      <td>0</td>\n",
       "    </tr>\n",
       "    <tr>\n",
       "      <th>4</th>\n",
       "      <td>0</td>\n",
       "      <td>0</td>\n",
       "      <td>0</td>\n",
       "      <td>0</td>\n",
       "      <td>0</td>\n",
       "      <td>0</td>\n",
       "      <td>0</td>\n",
       "      <td>0</td>\n",
       "      <td>0</td>\n",
       "      <td>0</td>\n",
       "      <td>...</td>\n",
       "      <td>0</td>\n",
       "      <td>0</td>\n",
       "      <td>0</td>\n",
       "      <td>0</td>\n",
       "      <td>0</td>\n",
       "      <td>0</td>\n",
       "      <td>0</td>\n",
       "      <td>0</td>\n",
       "      <td>0</td>\n",
       "      <td>0</td>\n",
       "    </tr>\n",
       "    <tr>\n",
       "      <th>...</th>\n",
       "      <td>...</td>\n",
       "      <td>...</td>\n",
       "      <td>...</td>\n",
       "      <td>...</td>\n",
       "      <td>...</td>\n",
       "      <td>...</td>\n",
       "      <td>...</td>\n",
       "      <td>...</td>\n",
       "      <td>...</td>\n",
       "      <td>...</td>\n",
       "      <td>...</td>\n",
       "      <td>...</td>\n",
       "      <td>...</td>\n",
       "      <td>...</td>\n",
       "      <td>...</td>\n",
       "      <td>...</td>\n",
       "      <td>...</td>\n",
       "      <td>...</td>\n",
       "      <td>...</td>\n",
       "      <td>...</td>\n",
       "      <td>...</td>\n",
       "    </tr>\n",
       "    <tr>\n",
       "      <th>20640</th>\n",
       "      <td>0</td>\n",
       "      <td>0</td>\n",
       "      <td>0</td>\n",
       "      <td>0</td>\n",
       "      <td>0</td>\n",
       "      <td>0</td>\n",
       "      <td>0</td>\n",
       "      <td>0</td>\n",
       "      <td>0</td>\n",
       "      <td>0</td>\n",
       "      <td>...</td>\n",
       "      <td>0</td>\n",
       "      <td>0</td>\n",
       "      <td>0</td>\n",
       "      <td>0</td>\n",
       "      <td>0</td>\n",
       "      <td>0</td>\n",
       "      <td>0</td>\n",
       "      <td>0</td>\n",
       "      <td>0</td>\n",
       "      <td>0</td>\n",
       "    </tr>\n",
       "    <tr>\n",
       "      <th>20641</th>\n",
       "      <td>0</td>\n",
       "      <td>0</td>\n",
       "      <td>0</td>\n",
       "      <td>0</td>\n",
       "      <td>0</td>\n",
       "      <td>0</td>\n",
       "      <td>0</td>\n",
       "      <td>0</td>\n",
       "      <td>0</td>\n",
       "      <td>0</td>\n",
       "      <td>...</td>\n",
       "      <td>0</td>\n",
       "      <td>0</td>\n",
       "      <td>0</td>\n",
       "      <td>0</td>\n",
       "      <td>0</td>\n",
       "      <td>0</td>\n",
       "      <td>0</td>\n",
       "      <td>0</td>\n",
       "      <td>0</td>\n",
       "      <td>0</td>\n",
       "    </tr>\n",
       "    <tr>\n",
       "      <th>20642</th>\n",
       "      <td>0</td>\n",
       "      <td>0</td>\n",
       "      <td>0</td>\n",
       "      <td>0</td>\n",
       "      <td>0</td>\n",
       "      <td>0</td>\n",
       "      <td>0</td>\n",
       "      <td>0</td>\n",
       "      <td>0</td>\n",
       "      <td>0</td>\n",
       "      <td>...</td>\n",
       "      <td>0</td>\n",
       "      <td>0</td>\n",
       "      <td>0</td>\n",
       "      <td>0</td>\n",
       "      <td>0</td>\n",
       "      <td>0</td>\n",
       "      <td>0</td>\n",
       "      <td>0</td>\n",
       "      <td>0</td>\n",
       "      <td>0</td>\n",
       "    </tr>\n",
       "    <tr>\n",
       "      <th>20643</th>\n",
       "      <td>0</td>\n",
       "      <td>0</td>\n",
       "      <td>0</td>\n",
       "      <td>0</td>\n",
       "      <td>0</td>\n",
       "      <td>0</td>\n",
       "      <td>0</td>\n",
       "      <td>0</td>\n",
       "      <td>0</td>\n",
       "      <td>0</td>\n",
       "      <td>...</td>\n",
       "      <td>0</td>\n",
       "      <td>0</td>\n",
       "      <td>0</td>\n",
       "      <td>0</td>\n",
       "      <td>0</td>\n",
       "      <td>0</td>\n",
       "      <td>0</td>\n",
       "      <td>0</td>\n",
       "      <td>0</td>\n",
       "      <td>0</td>\n",
       "    </tr>\n",
       "    <tr>\n",
       "      <th>20644</th>\n",
       "      <td>0</td>\n",
       "      <td>0</td>\n",
       "      <td>0</td>\n",
       "      <td>0</td>\n",
       "      <td>0</td>\n",
       "      <td>0</td>\n",
       "      <td>0</td>\n",
       "      <td>0</td>\n",
       "      <td>0</td>\n",
       "      <td>0</td>\n",
       "      <td>...</td>\n",
       "      <td>0</td>\n",
       "      <td>0</td>\n",
       "      <td>0</td>\n",
       "      <td>0</td>\n",
       "      <td>0</td>\n",
       "      <td>0</td>\n",
       "      <td>0</td>\n",
       "      <td>0</td>\n",
       "      <td>0</td>\n",
       "      <td>0</td>\n",
       "    </tr>\n",
       "  </tbody>\n",
       "</table>\n",
       "<p>19239 rows × 3000 columns</p>\n",
       "</div>"
      ],
      "text/plain": [
       "       aap  able  absolutely  abt  abuse  accept  acceptable  accepted  \\\n",
       "0        0     0           0    0      0       0           0         0   \n",
       "1        0     0           0    0      0       0           0         0   \n",
       "2        0     0           0    0      0       0           0         0   \n",
       "3        0     0           0    0      0       0           0         0   \n",
       "4        0     0           0    0      0       0           0         0   \n",
       "...    ...   ...         ...  ...    ...     ...         ...       ...   \n",
       "20640    0     0           0    0      0       0           0         0   \n",
       "20641    0     0           0    0      0       0           0         0   \n",
       "20642    0     0           0    0      0       0           0         0   \n",
       "20643    0     0           0    0      0       0           0         0   \n",
       "20644    0     0           0    0      0       0           0         0   \n",
       "\n",
       "       access  accessory  ...  young  youth  youtube  youtuber  yoy  yr  yum  \\\n",
       "0           0          0  ...      0      0        0         0    0   0    0   \n",
       "1           0          0  ...      0      0        0         0    0   0    0   \n",
       "2           0          0  ...      0      0        0         0    0   0    0   \n",
       "3           0          0  ...      0      0        0         0    0   0    0   \n",
       "4           0          0  ...      0      0        0         0    0   0    0   \n",
       "...       ...        ...  ...    ...    ...      ...       ...  ...  ..  ...   \n",
       "20640       0          0  ...      0      0        0         0    0   0    0   \n",
       "20641       0          0  ...      0      0        0         0    0   0    0   \n",
       "20642       0          0  ...      0      0        0         0    0   0    0   \n",
       "20643       0          0  ...      0      0        0         0    0   0    0   \n",
       "20644       0          0  ...      0      0        0         0    0   0    0   \n",
       "\n",
       "       yummy  zelda  zen  \n",
       "0          0      0    0  \n",
       "1          0      0    0  \n",
       "2          0      0    0  \n",
       "3          0      0    0  \n",
       "4          0      0    0  \n",
       "...      ...    ...  ...  \n",
       "20640      0      0    0  \n",
       "20641      0      0    0  \n",
       "20642      0      0    0  \n",
       "20643      0      0    0  \n",
       "20644      0      0    0  \n",
       "\n",
       "[19239 rows x 3000 columns]"
      ]
     },
     "execution_count": 89,
     "metadata": {},
     "output_type": "execute_result"
    }
   ],
   "source": [
    "association_rules_non_hatred = association_rules_df.loc[association_rules_df['label'] == 0]\n",
    "association_rules_non_hatred.drop('label', axis=1, inplace=True)\n",
    "association_rules_non_hatred"
   ]
  },
  {
   "cell_type": "code",
   "execution_count": 90,
   "id": "647170ba",
   "metadata": {},
   "outputs": [
    {
     "name": "stderr",
     "output_type": "stream",
     "text": [
      "/tmp/ipykernel_11727/1987741181.py:2: SettingWithCopyWarning: \n",
      "A value is trying to be set on a copy of a slice from a DataFrame\n",
      "\n",
      "See the caveats in the documentation: https://pandas.pydata.org/pandas-docs/stable/user_guide/indexing.html#returning-a-view-versus-a-copy\n",
      "  association_rules_hatred.drop('label', axis=1, inplace=True)\n"
     ]
    },
    {
     "data": {
      "text/html": [
       "<div>\n",
       "<style scoped>\n",
       "    .dataframe tbody tr th:only-of-type {\n",
       "        vertical-align: middle;\n",
       "    }\n",
       "\n",
       "    .dataframe tbody tr th {\n",
       "        vertical-align: top;\n",
       "    }\n",
       "\n",
       "    .dataframe thead th {\n",
       "        text-align: right;\n",
       "    }\n",
       "</style>\n",
       "<table border=\"1\" class=\"dataframe\">\n",
       "  <thead>\n",
       "    <tr style=\"text-align: right;\">\n",
       "      <th></th>\n",
       "      <th>aap</th>\n",
       "      <th>able</th>\n",
       "      <th>absolutely</th>\n",
       "      <th>abt</th>\n",
       "      <th>abuse</th>\n",
       "      <th>accept</th>\n",
       "      <th>acceptable</th>\n",
       "      <th>accepted</th>\n",
       "      <th>access</th>\n",
       "      <th>accessory</th>\n",
       "      <th>...</th>\n",
       "      <th>young</th>\n",
       "      <th>youth</th>\n",
       "      <th>youtube</th>\n",
       "      <th>youtuber</th>\n",
       "      <th>yoy</th>\n",
       "      <th>yr</th>\n",
       "      <th>yum</th>\n",
       "      <th>yummy</th>\n",
       "      <th>zelda</th>\n",
       "      <th>zen</th>\n",
       "    </tr>\n",
       "  </thead>\n",
       "  <tbody>\n",
       "    <tr>\n",
       "      <th>14</th>\n",
       "      <td>0</td>\n",
       "      <td>0</td>\n",
       "      <td>0</td>\n",
       "      <td>0</td>\n",
       "      <td>0</td>\n",
       "      <td>0</td>\n",
       "      <td>0</td>\n",
       "      <td>0</td>\n",
       "      <td>0</td>\n",
       "      <td>0</td>\n",
       "      <td>...</td>\n",
       "      <td>0</td>\n",
       "      <td>0</td>\n",
       "      <td>0</td>\n",
       "      <td>0</td>\n",
       "      <td>0</td>\n",
       "      <td>0</td>\n",
       "      <td>0</td>\n",
       "      <td>0</td>\n",
       "      <td>0</td>\n",
       "      <td>0</td>\n",
       "    </tr>\n",
       "    <tr>\n",
       "      <th>33</th>\n",
       "      <td>0</td>\n",
       "      <td>0</td>\n",
       "      <td>0</td>\n",
       "      <td>0</td>\n",
       "      <td>0</td>\n",
       "      <td>0</td>\n",
       "      <td>0</td>\n",
       "      <td>0</td>\n",
       "      <td>0</td>\n",
       "      <td>0</td>\n",
       "      <td>...</td>\n",
       "      <td>0</td>\n",
       "      <td>0</td>\n",
       "      <td>0</td>\n",
       "      <td>0</td>\n",
       "      <td>0</td>\n",
       "      <td>0</td>\n",
       "      <td>0</td>\n",
       "      <td>0</td>\n",
       "      <td>0</td>\n",
       "      <td>0</td>\n",
       "    </tr>\n",
       "    <tr>\n",
       "      <th>72</th>\n",
       "      <td>0</td>\n",
       "      <td>0</td>\n",
       "      <td>0</td>\n",
       "      <td>0</td>\n",
       "      <td>0</td>\n",
       "      <td>0</td>\n",
       "      <td>0</td>\n",
       "      <td>0</td>\n",
       "      <td>0</td>\n",
       "      <td>0</td>\n",
       "      <td>...</td>\n",
       "      <td>0</td>\n",
       "      <td>0</td>\n",
       "      <td>0</td>\n",
       "      <td>0</td>\n",
       "      <td>0</td>\n",
       "      <td>0</td>\n",
       "      <td>0</td>\n",
       "      <td>0</td>\n",
       "      <td>0</td>\n",
       "      <td>0</td>\n",
       "    </tr>\n",
       "    <tr>\n",
       "      <th>93</th>\n",
       "      <td>0</td>\n",
       "      <td>0</td>\n",
       "      <td>0</td>\n",
       "      <td>0</td>\n",
       "      <td>0</td>\n",
       "      <td>0</td>\n",
       "      <td>0</td>\n",
       "      <td>0</td>\n",
       "      <td>0</td>\n",
       "      <td>0</td>\n",
       "      <td>...</td>\n",
       "      <td>0</td>\n",
       "      <td>0</td>\n",
       "      <td>0</td>\n",
       "      <td>0</td>\n",
       "      <td>0</td>\n",
       "      <td>0</td>\n",
       "      <td>0</td>\n",
       "      <td>0</td>\n",
       "      <td>0</td>\n",
       "      <td>0</td>\n",
       "    </tr>\n",
       "    <tr>\n",
       "      <th>99</th>\n",
       "      <td>0</td>\n",
       "      <td>0</td>\n",
       "      <td>0</td>\n",
       "      <td>0</td>\n",
       "      <td>0</td>\n",
       "      <td>0</td>\n",
       "      <td>0</td>\n",
       "      <td>0</td>\n",
       "      <td>0</td>\n",
       "      <td>0</td>\n",
       "      <td>...</td>\n",
       "      <td>0</td>\n",
       "      <td>0</td>\n",
       "      <td>0</td>\n",
       "      <td>0</td>\n",
       "      <td>0</td>\n",
       "      <td>0</td>\n",
       "      <td>0</td>\n",
       "      <td>0</td>\n",
       "      <td>0</td>\n",
       "      <td>0</td>\n",
       "    </tr>\n",
       "    <tr>\n",
       "      <th>...</th>\n",
       "      <td>...</td>\n",
       "      <td>...</td>\n",
       "      <td>...</td>\n",
       "      <td>...</td>\n",
       "      <td>...</td>\n",
       "      <td>...</td>\n",
       "      <td>...</td>\n",
       "      <td>...</td>\n",
       "      <td>...</td>\n",
       "      <td>...</td>\n",
       "      <td>...</td>\n",
       "      <td>...</td>\n",
       "      <td>...</td>\n",
       "      <td>...</td>\n",
       "      <td>...</td>\n",
       "      <td>...</td>\n",
       "      <td>...</td>\n",
       "      <td>...</td>\n",
       "      <td>...</td>\n",
       "      <td>...</td>\n",
       "      <td>...</td>\n",
       "    </tr>\n",
       "    <tr>\n",
       "      <th>20588</th>\n",
       "      <td>0</td>\n",
       "      <td>0</td>\n",
       "      <td>0</td>\n",
       "      <td>0</td>\n",
       "      <td>0</td>\n",
       "      <td>0</td>\n",
       "      <td>0</td>\n",
       "      <td>0</td>\n",
       "      <td>0</td>\n",
       "      <td>0</td>\n",
       "      <td>...</td>\n",
       "      <td>0</td>\n",
       "      <td>0</td>\n",
       "      <td>0</td>\n",
       "      <td>0</td>\n",
       "      <td>0</td>\n",
       "      <td>0</td>\n",
       "      <td>0</td>\n",
       "      <td>0</td>\n",
       "      <td>0</td>\n",
       "      <td>0</td>\n",
       "    </tr>\n",
       "    <tr>\n",
       "      <th>20598</th>\n",
       "      <td>0</td>\n",
       "      <td>0</td>\n",
       "      <td>0</td>\n",
       "      <td>0</td>\n",
       "      <td>0</td>\n",
       "      <td>0</td>\n",
       "      <td>0</td>\n",
       "      <td>0</td>\n",
       "      <td>0</td>\n",
       "      <td>0</td>\n",
       "      <td>...</td>\n",
       "      <td>0</td>\n",
       "      <td>0</td>\n",
       "      <td>0</td>\n",
       "      <td>0</td>\n",
       "      <td>0</td>\n",
       "      <td>0</td>\n",
       "      <td>0</td>\n",
       "      <td>0</td>\n",
       "      <td>0</td>\n",
       "      <td>0</td>\n",
       "    </tr>\n",
       "    <tr>\n",
       "      <th>20606</th>\n",
       "      <td>0</td>\n",
       "      <td>0</td>\n",
       "      <td>0</td>\n",
       "      <td>0</td>\n",
       "      <td>0</td>\n",
       "      <td>0</td>\n",
       "      <td>0</td>\n",
       "      <td>0</td>\n",
       "      <td>0</td>\n",
       "      <td>0</td>\n",
       "      <td>...</td>\n",
       "      <td>0</td>\n",
       "      <td>0</td>\n",
       "      <td>0</td>\n",
       "      <td>0</td>\n",
       "      <td>0</td>\n",
       "      <td>0</td>\n",
       "      <td>0</td>\n",
       "      <td>0</td>\n",
       "      <td>0</td>\n",
       "      <td>0</td>\n",
       "    </tr>\n",
       "    <tr>\n",
       "      <th>20614</th>\n",
       "      <td>0</td>\n",
       "      <td>0</td>\n",
       "      <td>0</td>\n",
       "      <td>0</td>\n",
       "      <td>0</td>\n",
       "      <td>0</td>\n",
       "      <td>0</td>\n",
       "      <td>0</td>\n",
       "      <td>0</td>\n",
       "      <td>0</td>\n",
       "      <td>...</td>\n",
       "      <td>0</td>\n",
       "      <td>0</td>\n",
       "      <td>0</td>\n",
       "      <td>0</td>\n",
       "      <td>0</td>\n",
       "      <td>0</td>\n",
       "      <td>0</td>\n",
       "      <td>0</td>\n",
       "      <td>0</td>\n",
       "      <td>0</td>\n",
       "    </tr>\n",
       "    <tr>\n",
       "      <th>20630</th>\n",
       "      <td>0</td>\n",
       "      <td>0</td>\n",
       "      <td>0</td>\n",
       "      <td>0</td>\n",
       "      <td>0</td>\n",
       "      <td>0</td>\n",
       "      <td>0</td>\n",
       "      <td>0</td>\n",
       "      <td>0</td>\n",
       "      <td>0</td>\n",
       "      <td>...</td>\n",
       "      <td>0</td>\n",
       "      <td>0</td>\n",
       "      <td>0</td>\n",
       "      <td>0</td>\n",
       "      <td>0</td>\n",
       "      <td>0</td>\n",
       "      <td>0</td>\n",
       "      <td>0</td>\n",
       "      <td>0</td>\n",
       "      <td>0</td>\n",
       "    </tr>\n",
       "  </tbody>\n",
       "</table>\n",
       "<p>1406 rows × 3000 columns</p>\n",
       "</div>"
      ],
      "text/plain": [
       "       aap  able  absolutely  abt  abuse  accept  acceptable  accepted  \\\n",
       "14       0     0           0    0      0       0           0         0   \n",
       "33       0     0           0    0      0       0           0         0   \n",
       "72       0     0           0    0      0       0           0         0   \n",
       "93       0     0           0    0      0       0           0         0   \n",
       "99       0     0           0    0      0       0           0         0   \n",
       "...    ...   ...         ...  ...    ...     ...         ...       ...   \n",
       "20588    0     0           0    0      0       0           0         0   \n",
       "20598    0     0           0    0      0       0           0         0   \n",
       "20606    0     0           0    0      0       0           0         0   \n",
       "20614    0     0           0    0      0       0           0         0   \n",
       "20630    0     0           0    0      0       0           0         0   \n",
       "\n",
       "       access  accessory  ...  young  youth  youtube  youtuber  yoy  yr  yum  \\\n",
       "14          0          0  ...      0      0        0         0    0   0    0   \n",
       "33          0          0  ...      0      0        0         0    0   0    0   \n",
       "72          0          0  ...      0      0        0         0    0   0    0   \n",
       "93          0          0  ...      0      0        0         0    0   0    0   \n",
       "99          0          0  ...      0      0        0         0    0   0    0   \n",
       "...       ...        ...  ...    ...    ...      ...       ...  ...  ..  ...   \n",
       "20588       0          0  ...      0      0        0         0    0   0    0   \n",
       "20598       0          0  ...      0      0        0         0    0   0    0   \n",
       "20606       0          0  ...      0      0        0         0    0   0    0   \n",
       "20614       0          0  ...      0      0        0         0    0   0    0   \n",
       "20630       0          0  ...      0      0        0         0    0   0    0   \n",
       "\n",
       "       yummy  zelda  zen  \n",
       "14         0      0    0  \n",
       "33         0      0    0  \n",
       "72         0      0    0  \n",
       "93         0      0    0  \n",
       "99         0      0    0  \n",
       "...      ...    ...  ...  \n",
       "20588      0      0    0  \n",
       "20598      0      0    0  \n",
       "20606      0      0    0  \n",
       "20614      0      0    0  \n",
       "20630      0      0    0  \n",
       "\n",
       "[1406 rows x 3000 columns]"
      ]
     },
     "execution_count": 90,
     "metadata": {},
     "output_type": "execute_result"
    }
   ],
   "source": [
    "association_rules_hatred = association_rules_df.loc[association_rules_df['label'] == 1]\n",
    "association_rules_hatred.drop('label', axis=1, inplace=True)\n",
    "association_rules_hatred"
   ]
  },
  {
   "cell_type": "code",
   "execution_count": 92,
   "id": "b5fd6bc6",
   "metadata": {},
   "outputs": [],
   "source": [
    "association_rules_df.to_csv('dataset/association_rules/association_rules.csv', index=False)\n",
    "association_rules_non_hatred.to_csv('dataset/association_rules/non_hatred.csv', index=False)\n",
    "association_rules_hatred.to_csv('dataset/association_rules/hatred.csv', index=False)"
   ]
  }
 ],
 "metadata": {
  "accelerator": "TPU",
  "colab": {
   "provenance": []
  },
  "kernelspec": {
   "display_name": "Python 3 (ipykernel)",
   "language": "python",
   "name": "python3"
  },
  "language_info": {
   "codemirror_mode": {
    "name": "ipython",
    "version": 3
   },
   "file_extension": ".py",
   "mimetype": "text/x-python",
   "name": "python",
   "nbconvert_exporter": "python",
   "pygments_lexer": "ipython3",
   "version": "3.8.10"
  }
 },
 "nbformat": 4,
 "nbformat_minor": 5
}
